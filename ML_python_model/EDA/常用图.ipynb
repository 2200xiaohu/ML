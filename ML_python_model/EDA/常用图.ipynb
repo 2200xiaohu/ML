{
 "cells": [
  {
   "attachments": {},
   "cell_type": "markdown",
   "metadata": {},
   "source": [
    "# 密度的柱状图"
   ]
  },
  {
   "cell_type": "code",
   "execution_count": null,
   "metadata": {},
   "outputs": [],
   "source": [
    "import seaborn as sns\n",
    "import matplotlib.pyplot as plt\n",
    "%matplotlib inline\n",
    "\n",
    "df_for_plot = train\n",
    "n_cols = len(df_for_plot.columns)\n",
    "n_rows = (n_cols - 1 + 2) // 3\n",
    "\n",
    "fig = plt.figure(figsize=(15, n_rows * 4))\n",
    "for i, col in enumerate(df_for_plot.columns[1:]):\n",
    "    plt.subplot(n_rows, 3, i + 1)\n",
    "    plt.title(col, size=18, y=1.03, fontname='Calibri', \n",
    "              fontweight='bold', color='#444444')\n",
    "    a = sns.histplot(df_for_plot[col], \n",
    "                     color='#d1d1d1', bins=15, label='train')\n",
    "    sns.histplot(test[col], \n",
    "                     color='#e29930', bins=15, label='test')\n",
    "    plt.ylabel('')\n",
    "    plt.xlabel('')\n",
    "    plt.xticks(fontname='Calibri', size=12)\n",
    "    plt.yticks([])\n",
    "    for s in ['right', 'top', 'left', 'bottom']:\n",
    "        a.spines[s].set_visible(False)\n",
    "\n",
    "fig.tight_layout(pad=3)\n",
    "fig.legend(['train (kaggle+sklearn)', 'test'], bbox_to_anchor=(0.96, 1.1), \n",
    "           ncol=1, borderpad=0.5, frameon=True, fontsize=11,\n",
    "                   title='Data', title_fontsize=12)\n",
    "plt.figtext(0.5, 1.05, 'Features distribution', \n",
    "            fontname='Calibri', fontweight='bold',\n",
    "            size=22, color='#444444', ha='center') \n",
    "plt.show()\n"
   ]
  },
  {
   "attachments": {},
   "cell_type": "markdown",
   "metadata": {},
   "source": [
    "# 密度图"
   ]
  },
  {
   "cell_type": "code",
   "execution_count": null,
   "metadata": {},
   "outputs": [],
   "source": [
    "import seaborn as sns\n",
    "import matplotlib.pyplot as plt\n",
    "%matplotlib inline\n",
    "\n",
    "df_for_plot = train\n",
    "n_cols = len(df_for_plot.columns)\n",
    "n_rows = (n_cols - 1 + 2) // 3\n",
    "\n",
    "fig = plt.figure(figsize=(15, n_rows * 4))\n",
    "for i, col in enumerate(df_for_plot.columns[1:]):\n",
    "    plt.subplot(n_rows, 3, i + 1)\n",
    "    plt.title(col, size=18, y=1.03, fontname='Calibri', \n",
    "              fontweight='bold', color='#444444')\n",
    "    a = sns.kdeplot(df_for_plot[col], \n",
    "                     color='#d1d1d1',label='train',fill=True)\n",
    "    sns.kdeplot(test[col], \n",
    "                     color='#e29930',label='test',fill=True)\n",
    "    plt.ylabel('')\n",
    "    plt.xlabel('')\n",
    "    plt.xticks(fontname='Calibri', size=12)\n",
    "    plt.yticks([])\n",
    "    for s in ['right', 'top', 'left', 'bottom']:\n",
    "        a.spines[s].set_visible(False)\n",
    "\n",
    "fig.tight_layout(pad=3)\n",
    "fig.legend(['train (kaggle+sklearn)', 'test'], bbox_to_anchor=(0.96, 1.1), \n",
    "           ncol=1, borderpad=0.5, frameon=True, fontsize=11,\n",
    "                   title='Data', title_fontsize=12)\n",
    "plt.figtext(0.5, 1.05, 'Features distribution', \n",
    "            fontname='Calibri', fontweight='bold',\n",
    "            size=22, color='#444444', ha='center') \n",
    "plt.show()\n"
   ]
  },
  {
   "attachments": {},
   "cell_type": "markdown",
   "metadata": {},
   "source": [
    "# 柱状图"
   ]
  },
  {
   "attachments": {},
   "cell_type": "markdown",
   "metadata": {},
   "source": [
    "## 简单的，单个的"
   ]
  },
  {
   "cell_type": "code",
   "execution_count": null,
   "metadata": {},
   "outputs": [],
   "source": [
    "import seaborn as sns\n",
    "import matplotlib.pyplot as plt\n",
    "%matplotlib inline\n",
    "title = 'target value'\n",
    "\n",
    "fig = plt.figure(figsize=(10, 8))\n",
    "\n",
    "plt.title(title,size=18, y=1.03, fontname='Calibri', \n",
    "              fontweight='bold', color='#444444')\n",
    "\n",
    "a = sns.histplot(train['Severity'],\n",
    "                 color='#d1d1d1', bins=15, label='train')\n",
    "\n",
    "sns.histplot(test['Severity'], \n",
    "                     color='#e29930', bins=15, label='test')\n",
    "\n",
    "plt.ylabel('')\n",
    "plt.xlabel('')\n",
    "plt.xticks(fontname='Calibri', size=12)\n",
    "plt.yticks([])\n",
    "\n",
    "for s in ['right', 'top', 'left', 'bottom']:\n",
    "        a.spines[s].set_visible(False)\n",
    "\n",
    "fig.tight_layout(pad=3)\n",
    "fig.legend(['train', 'test'], bbox_to_anchor=(0.96, 1.1), \n",
    "           ncol=1, borderpad=0.5, frameon=True, fontsize=11,\n",
    "                   title='Data', title_fontsize=12)\n",
    "plt.figtext(0.5, 1.05, 'Features distribution', \n",
    "            fontname='Calibri', fontweight='bold',\n",
    "            size=22, color='#444444', ha='center') \n",
    "plt.show()"
   ]
  },
  {
   "attachments": {},
   "cell_type": "markdown",
   "metadata": {},
   "source": [
    "# 所有变量互相的散点图"
   ]
  },
  {
   "cell_type": "code",
   "execution_count": null,
   "metadata": {},
   "outputs": [],
   "source": [
    "cont_cols = [f for f in train.columns if train[f].dtype!=\"O\" and f not in ['Age','Height'] and train[f].nunique()>2]\n",
    "sns.pairplot(data=train, vars=cont_cols+['Age'], hue='Sex')\n",
    "plt.show()"
   ]
  },
  {
   "attachments": {},
   "cell_type": "markdown",
   "metadata": {},
   "source": [
    "# 相关系数"
   ]
  },
  {
   "cell_type": "code",
   "execution_count": null,
   "metadata": {},
   "outputs": [],
   "source": [
    "features=[f for f in train.columns if train[f].astype!='O']\n",
    "corr = train[features].corr()\n",
    "plt.figure(figsize = (10, 8), dpi = 300)\n",
    "mask = np.zeros_like(corr)\n",
    "mask[np.triu_indices_from(mask)] = True\n",
    "sns.heatmap(corr, mask = mask, cmap = 'magma', annot = True, annot_kws = {'size' : 7})\n",
    "plt.title('Features Correlation Matrix\\n', fontsize = 15, weight = 'bold')\n",
    "plt.show()"
   ]
  }
 ],
 "metadata": {
  "language_info": {
   "name": "python"
  },
  "orig_nbformat": 4
 },
 "nbformat": 4,
 "nbformat_minor": 2
}
