{
  "cells": [
    {
      "cell_type": "markdown",
      "source": [
        "# install cuml"
      ],
      "metadata": {
        "id": "z_S2MS-KCMVw"
      }
    },
    {
      "cell_type": "code",
      "execution_count": null,
      "metadata": {
        "id": "jCMhtp5lNPC-"
      },
      "outputs": [],
      "source": [
        "DEBUG = False\n",
        "DEBUG_COUNTRY = [\"GB\"]"
      ]
    },
    {
      "cell_type": "code",
      "execution_count": null,
      "metadata": {
        "colab": {
          "base_uri": "https://localhost:8080/"
        },
        "id": "ZePVhXhcAKO0",
        "outputId": "2db518bf-3e9b-402a-f9b7-483e2c567cee"
      },
      "outputs": [
        {
          "output_type": "stream",
          "name": "stdout",
          "text": [
            "Looking in indexes: https://pypi.org/simple, https://us-python.pkg.dev/colab-wheels/public/simple/\n",
            "Collecting pynvml\n",
            "  Downloading pynvml-11.4.1-py3-none-any.whl (46 kB)\n",
            "\u001b[K     |████████████████████████████████| 46 kB 4.5 MB/s \n",
            "\u001b[?25hInstalling collected packages: pynvml\n",
            "Successfully installed pynvml-11.4.1\n"
          ]
        }
      ],
      "source": [
        "pip install pynvml"
      ]
    },
    {
      "cell_type": "code",
      "execution_count": null,
      "metadata": {
        "colab": {
          "base_uri": "https://localhost:8080/"
        },
        "id": "_G756vnMNxCf",
        "outputId": "bd2a01ce-ebf1-4250-eb35-70be63bbff12"
      },
      "outputs": [
        {
          "output_type": "stream",
          "name": "stdout",
          "text": [
            "Cloning into 'rapidsai-csp-utils'...\n",
            "remote: Enumerating objects: 300, done.\u001b[K\n",
            "remote: Counting objects: 100% (129/129), done.\u001b[K\n",
            "remote: Compressing objects: 100% (74/74), done.\u001b[K\n",
            "remote: Total 300 (delta 74), reused 99 (delta 55), pack-reused 171\u001b[K\n",
            "Receiving objects: 100% (300/300), 87.58 KiB | 393.00 KiB/s, done.\n",
            "Resolving deltas: 100% (136/136), done.\n",
            "***********************************************************************\n",
            "Woo! Your instance has the right kind of GPU, a Tesla T4!\n",
            "***********************************************************************\n",
            "\n"
          ]
        }
      ],
      "source": [
        "!git clone https://github.com/rapidsai/rapidsai-csp-utils.git\n",
        "!python rapidsai-csp-utils/colab/env-check.py"
      ]
    },
    {
      "cell_type": "code",
      "execution_count": null,
      "metadata": {
        "id": "VW8dJky9PSra"
      },
      "outputs": [],
      "source": [
        "!bash rapidsai-csp-utils/colab/update_gcc.sh\n",
        "import os\n",
        "os._exit(00)"
      ]
    },
    {
      "cell_type": "code",
      "execution_count": null,
      "metadata": {
        "colab": {
          "base_uri": "https://localhost:8080/"
        },
        "id": "Ju6z_i7ZPb1X",
        "outputId": "631b1a3b-9be6-42a8-ded5-70f9e35e1714"
      },
      "outputs": [
        {
          "output_type": "stream",
          "name": "stdout",
          "text": [
            "⏬ Downloading https://github.com/jaimergp/miniforge/releases/latest/download/Mambaforge-colab-Linux-x86_64.sh...\n",
            "📦 Installing...\n",
            "📌 Adjusting configuration...\n",
            "🩹 Patching environment...\n",
            "⏲ Done in 0:00:40\n",
            "🔁 Restarting kernel...\n"
          ]
        }
      ],
      "source": [
        "import condacolab\n",
        "condacolab.install()"
      ]
    },
    {
      "cell_type": "code",
      "execution_count": null,
      "metadata": {
        "colab": {
          "base_uri": "https://localhost:8080/"
        },
        "id": "mzEqAn-cPl1r",
        "outputId": "37ed1cb7-d6b7-43ea-f54b-a54b39b91407"
      },
      "outputs": [
        {
          "output_type": "stream",
          "name": "stdout",
          "text": [
            "✨🍰✨ Everything looks OK!\n"
          ]
        }
      ],
      "source": [
        "import condacolab\n",
        "condacolab.check()"
      ]
    },
    {
      "cell_type": "code",
      "execution_count": null,
      "metadata": {
        "id": "Mm1VBDwnPtgT"
      },
      "outputs": [],
      "source": [
        "!python rapidsai-csp-utils/colab/install_rapids.py stable\n",
        "import os\n",
        "os.environ['NUMBAPRO_NVVM'] = '/usr/local/cuda/nvvm/lib64/libnvvm.so'\n",
        "os.environ['NUMBAPRO_LIBDEVICE'] = '/usr/local/cuda/nvvm/libdevice/'\n",
        "os.environ['CONDA_PREFIX'] = '/usr/local'"
      ]
    },
    {
      "cell_type": "code",
      "execution_count": null,
      "metadata": {
        "colab": {
          "base_uri": "https://localhost:8080/"
        },
        "id": "ZpWad4hebDTY",
        "outputId": "c79d2344-59ec-4013-c038-57917dcc3510"
      },
      "outputs": [
        {
          "output_type": "stream",
          "name": "stdout",
          "text": [
            "size\n",
            "6    15.622920\n",
            "1    21.729202\n",
            "4    14.594901\n",
            "3    15.215685\n",
            "2    16.571919\n",
            "5    14.149549\n",
            "Name: tip_percentage, dtype: float64\n"
          ]
        }
      ],
      "source": [
        "import cudf\n",
        "import io, requests\n",
        "\n",
        "# download CSV file from GitHub\n",
        "url=\"https://github.com/plotly/datasets/raw/master/tips.csv\"\n",
        "content = requests.get(url).content.decode('utf-8')\n",
        "\n",
        "# read CSV from memory\n",
        "tips_df = cudf.read_csv(io.StringIO(content))\n",
        "tips_df['tip_percentage'] = tips_df['tip']/tips_df['total_bill']*100\n",
        "\n",
        "# display average tip by dining party size\n",
        "print(tips_df.groupby('size').tip_percentage.mean())"
      ]
    },
    {
      "cell_type": "code",
      "execution_count": null,
      "metadata": {
        "id": "nlb3cDnnPHEM"
      },
      "outputs": [],
      "source": [
        "import cuml\n",
        "\n",
        "# Create and populate a GPU DataFrame\n",
        "df_float = cudf.DataFrame()\n",
        "df_float['0'] = [1.0, 2.0, 5.0]\n",
        "df_float['1'] = [4.0, 2.0, 1.0]\n",
        "df_float['2'] = [4.0, 2.0, 1.0]\n",
        "\n",
        "# Setup and fit clusters\n",
        "dbscan_float = cuml.DBSCAN(eps=1.0, min_samples=1)\n",
        "dbscan_float.fit(df_float)\n",
        "\n",
        "print(dbscan_float.labels_)"
      ]
    },
    {
      "cell_type": "markdown",
      "source": [
        "# Import Data"
      ],
      "metadata": {
        "id": "Zws9FPe1j1Hm"
      }
    },
    {
      "cell_type": "code",
      "source": [
        "import numpy as np\n",
        "import pandas as pd\n",
        "import matplotlib.pyplot as plt\n",
        "%matplotlib inline\n",
        "#交互式使用daaframe\n",
        "%load_ext google.colab.data_table\n",
        "import seaborn as sns\n",
        "from google.colab import drive\n",
        "drive.mount('/content/gdrive')\n"
      ],
      "metadata": {
        "colab": {
          "base_uri": "https://localhost:8080/"
        },
        "id": "Sh43Ha0CkEte",
        "outputId": "14d3d4f5-74e1-43de-b959-82fbee3a3f6e"
      },
      "execution_count": null,
      "outputs": [
        {
          "output_type": "stream",
          "name": "stdout",
          "text": [
            "Mounted at /content/gdrive\n"
          ]
        }
      ]
    },
    {
      "cell_type": "code",
      "source": [
        "import random\n",
        "def set_seed(seed_value):\n",
        "    random.seed(seed_value)\n",
        "    np.random.seed(seed_value)\n",
        "    os.environ[\"PYTHONHASHSEED\"] = str(seed_value)\n",
        "    \n",
        "\n",
        "SEED = 42\n",
        "set_seed(SEED)"
      ],
      "metadata": {
        "id": "hPVgiZ2nnO9P"
      },
      "execution_count": null,
      "outputs": []
    },
    {
      "cell_type": "code",
      "source": [
        "Train1=pd.read_csv('/content/gdrive/MyDrive/Colab Notebooks/titanic/Trainbest.csv')\n",
        "Test1=pd.read_csv('/content/gdrive/MyDrive/Colab Notebooks/titanic/Testbest.csv')\n",
        "Test1['Survived']=Test1['Survived'].astype('category',errors='ignore')#转换类型\n",
        "#Train1['Survived']=Train1['Survived'].astype('category',errors='ignore')"
      ],
      "metadata": {
        "id": "ujq0-q1ikNtr"
      },
      "execution_count": null,
      "outputs": []
    },
    {
      "cell_type": "code",
      "source": [
        "Feature=['FP','FS','wc','FamilySize']\n",
        "x_train=Train1[Feature]\n",
        "x_test=Test1[Feature]\n",
        "y_train=Train1['Survived']\n",
        "y_test=Test1['Survived']"
      ],
      "metadata": {
        "id": "WY_z0rDYkbR6"
      },
      "execution_count": null,
      "outputs": []
    },
    {
      "cell_type": "code",
      "source": [
        "from sklearn.preprocessing import Normalizer\n",
        "from sklearn.preprocessing import normalize\n",
        "from sklearn.preprocessing import StandardScaler\n",
        "normaler = Normalizer()\n",
        "scaler = StandardScaler()\n",
        "cols=x_train.columns\n",
        "x_train[cols] = scaler.fit_transform(x_train[cols])\n",
        "x_train[cols] = normaler.fit_transform(x_train[cols])\n",
        "cols=x_test.columns\n",
        "x_test[cols] = scaler.fit_transform(x_test[cols])\n",
        "x_test[cols] = normaler.fit_transform(x_test[cols])\n",
        "#p = normalize(p[:,np.newaxis], axis=0).ravel()"
      ],
      "metadata": {
        "id": "6TsXwlAVkhUV"
      },
      "execution_count": null,
      "outputs": []
    },
    {
      "cell_type": "markdown",
      "source": [
        "# Trian model"
      ],
      "metadata": {
        "id": "5ffsHnLtmN-q"
      }
    },
    {
      "cell_type": "markdown",
      "source": [
        "## CUML"
      ],
      "metadata": {
        "id": "oHPqiq99mUnI"
      }
    },
    {
      "cell_type": "markdown",
      "source": [
        "### SVM"
      ],
      "metadata": {
        "id": "28kyTsBqmRdE"
      }
    },
    {
      "cell_type": "markdown",
      "source": [
        "####cuml"
      ],
      "metadata": {
        "id": "Ag1YgxNNwcqI"
      }
    },
    {
      "cell_type": "code",
      "source": [
        "import time\n",
        "from cuml.model_selection import train_test_split, GridSearchCV\n",
        "from cuml.svm import SVC\n",
        "cross_valid_scores = {}\n",
        "start=time.time()\n",
        "parameters = {\n",
        "    \"C\": np.arange(0.1,0.2,step=0.01),\n",
        "    \"kernel\": [\"linear\",],# \"poly\", \"rbf\", \"sigmoid\"\n",
        "    \"gamma\": [\"scale\", \"auto\"],\n",
        "}\n",
        "\n",
        "model_svc = SVC(\n",
        "    random_state=SEED,\n",
        "    class_weight=\"balanced\",\n",
        "    probability=True,\n",
        ")\n",
        "\n",
        "model_svc = GridSearchCV(\n",
        "    model_svc, \n",
        "    parameters, \n",
        "    cv=5,\n",
        "    scoring='accuracy',\n",
        "    verbose=3\n",
        ")\n",
        "\n",
        "\n",
        "svc_model=model_svc.fit(x_train, y_train)\n",
        "end=time.time()\n",
        "print('-----')\n",
        "print(\"Time=\",end-start)\n",
        "print(f'Best parameters {model_svc.best_params_}')\n",
        "print(\n",
        "    f'Mean cross-validated accuracy score of the best_estimator: ' + \n",
        "    f'{model_svc.best_score_:.3f}'\n",
        ")\n",
        "cross_valid_scores['svc'] = model_svc.best_score_\n",
        "print('-----')"
      ],
      "metadata": {
        "id": "MfOdF43_l14q"
      },
      "execution_count": null,
      "outputs": []
    },
    {
      "cell_type": "markdown",
      "source": [
        "#### sklearn"
      ],
      "metadata": {
        "id": "uH_JYm7Zwgx9"
      }
    },
    {
      "cell_type": "code",
      "source": [
        "from sklearn.svm import SVC\n",
        "start=time.time()\n",
        "parameters = {\n",
        "    \"C\": np.arange(0.1,0.2,step=0.01),\n",
        "    \"kernel\": [\"linear\",],# \"poly\", \"rbf\", \"sigmoid\"\n",
        "    \"gamma\": [\"scale\", \"auto\"],\n",
        "}\n",
        "\n",
        "model_svc = SVC(\n",
        "    random_state=SEED,\n",
        "    class_weight=\"balanced\",\n",
        "    probability=True,\n",
        ")\n",
        "\n",
        "model_svc = GridSearchCV(\n",
        "    model_svc, \n",
        "    parameters, \n",
        "    cv=5,\n",
        "    scoring='accuracy',\n",
        "    verbose=3\n",
        ")\n",
        "\n",
        "\n",
        "svc_model=model_svc.fit(x_train, y_train)\n",
        "end=time.time()\n",
        "print('-----')\n",
        "print(\"Time=\",end-start)\n",
        "print(f'Best parameters {model_svc.best_params_}')\n",
        "print(\n",
        "    f'Mean cross-validated accuracy score of the best_estimator: ' + \n",
        "    f'{model_svc.best_score_:.3f}'\n",
        ")\n",
        "cross_valid_scores['svc'] = model_svc.best_score_\n",
        "print('-----')"
      ],
      "metadata": {
        "id": "6kXY-bTrmNdv"
      },
      "execution_count": null,
      "outputs": []
    },
    {
      "cell_type": "markdown",
      "source": [
        "### XGB"
      ],
      "metadata": {
        "id": "9dAJ-wEqwMNE"
      }
    },
    {
      "cell_type": "code",
      "source": [
        "import xgboost as xgb\n",
        "import time\n",
        "start=time.time()\n",
        "parameters = {\n",
        "    'max_depth': [3, 5, 7, 9], \n",
        "    'n_estimators': [5, 10, 15, 20, 25, 50, 100],\n",
        "    'learning_rate': [0.01, 0.05, 0.1],\n",
        "    'gamma':[0],\n",
        "    'max_delta_step':[0],\n",
        "    'min_child_weight':[1],\n",
        "    'min_split_loss':[0.01]\n",
        "    \n",
        "}\n",
        "\n",
        "model_xgb = xgb.XGBClassifier(\n",
        "    random_state=SEED,\n",
        "    objective='binary:logistic',\n",
        "    tree_method='gpu_hist',\n",
        "    predictor='gpu_predictor'\n",
        ")\n",
        "\n",
        "model_xgb = GridSearchCV(\n",
        "    model_xgb, \n",
        "    parameters, \n",
        "    cv=10,\n",
        "    scoring='accuracy',\n",
        "    verbose=3\n",
        ")\n",
        "\n",
        "xgb_model=model_xgb.fit(Train1.drop('Survived',axis=1), Train1.Survived)\n",
        "end=time.time()\n",
        "print('-----')\n",
        "print(\"Time=\",end-start)\n",
        "print(f'Best parameters {model_xgb.best_params_}')\n",
        "print(\n",
        "    f'Mean cross-validated accuracy score of the best_estimator: ' + \n",
        "    f'{model_xgb.best_score_:.3f}'\n",
        ")\n",
        "cross_valid_scores['xgboost'] = model_xgb.best_score_\n",
        "print('-----')"
      ],
      "metadata": {
        "id": "egn8E5_JwOt8"
      },
      "execution_count": null,
      "outputs": []
    },
    {
      "cell_type": "markdown",
      "source": [
        "### Stacking"
      ],
      "metadata": {
        "id": "Br_mDt_WzAQK"
      }
    },
    {
      "cell_type": "code",
      "source": [
        "best_param=svc_model.best_params_\n",
        "svc_model_stack=SVC(\n",
        "    random_state=SEED,\n",
        "    class_weight=\"balanced\",\n",
        "    probability=True,\n",
        ")\n",
        "svc_model_stack.set_params(**best_param)"
      ],
      "metadata": {
        "colab": {
          "base_uri": "https://localhost:8080/"
        },
        "id": "c81sIpAfzDe5",
        "outputId": "9f8883de-3c58-4c46-8a48-7e1638513426"
      },
      "execution_count": null,
      "outputs": [
        {
          "output_type": "execute_result",
          "data": {
            "text/plain": [
              "SVC(C=0.1, class_weight='balanced', kernel='linear', probability=True,\n",
              "    random_state=42)"
            ]
          },
          "metadata": {},
          "execution_count": 35
        }
      ]
    },
    {
      "cell_type": "code",
      "source": [
        "best_param_xgboost"
      ],
      "metadata": {
        "colab": {
          "base_uri": "https://localhost:8080/"
        },
        "id": "8SR1Ln5hzX_G",
        "outputId": "3afa0476-9e1d-4943-aeff-419d203386cf"
      },
      "execution_count": null,
      "outputs": [
        {
          "output_type": "execute_result",
          "data": {
            "text/plain": [
              "{'gamma': 0,\n",
              " 'learning_rate': 0.1,\n",
              " 'max_delta_step': 0,\n",
              " 'max_depth': 9,\n",
              " 'min_child_weight': 1,\n",
              " 'min_split_loss': 0.01,\n",
              " 'n_estimators': 25}"
            ]
          },
          "metadata": {},
          "execution_count": 38
        }
      ]
    },
    {
      "cell_type": "code",
      "source": [
        "best_param_xgboost=xgb_model.best_params_\n",
        "parameters_stack_xgboost = {\n",
        "    'max_depth': [9], \n",
        "    'n_estimators': [25],\n",
        "    'learning_rate':  [0.1],\n",
        "    'gamma':[0.1],\n",
        "    'max_delta_step':[0],\n",
        "    'min_child_weight':[1],\n",
        "    'min_split_loss':[0.01]\n",
        "    \n",
        "}\n",
        "xgb_model_stack = xgb.XGBClassifier(\n",
        "    random_state=SEED,\n",
        "    objective='binary:logistic',\n",
        ")\n",
        "\n",
        "xgb_model_stack.set_params(**best_param_xgboost)"
      ],
      "metadata": {
        "colab": {
          "base_uri": "https://localhost:8080/"
        },
        "id": "_WER9nJ4zIIR",
        "outputId": "2b20e658-a269-4729-8483-9073493d5298"
      },
      "execution_count": null,
      "outputs": [
        {
          "output_type": "execute_result",
          "data": {
            "text/plain": [
              "XGBClassifier(base_score=None, booster=None, colsample_bylevel=None,\n",
              "              colsample_bynode=None, colsample_bytree=None,\n",
              "              enable_categorical=False, gamma=0, gpu_id=None,\n",
              "              importance_type=None, interaction_constraints=None,\n",
              "              learning_rate=0.1, max_delta_step=0, max_depth=9,\n",
              "              min_child_weight=1, min_split_loss=0.01, missing=nan,\n",
              "              monotone_constraints=None, n_estimators=25, n_jobs=None,\n",
              "              num_parallel_tree=None, predictor=None, random_state=42,\n",
              "              reg_alpha=None, reg_lambda=None, scale_pos_weight=None,\n",
              "              subsample=None, tree_method=None, validate_parameters=None,\n",
              "              verbosity=None)"
            ]
          },
          "metadata": {},
          "execution_count": 75
        }
      ]
    },
    {
      "cell_type": "code",
      "source": [
        "xgb_model_stack = GridSearchCV(\n",
        "    xgb_model_stack, \n",
        "    parameters_stack_xgboost, \n",
        "    cv=10,\n",
        "    scoring='accuracy',\n",
        "    verbose=3\n",
        ")"
      ],
      "metadata": {
        "id": "Rdn0PEcc7Qx5"
      },
      "execution_count": null,
      "outputs": []
    },
    {
      "cell_type": "code",
      "source": [
        "xgb_model_stack"
      ],
      "metadata": {
        "colab": {
          "base_uri": "https://localhost:8080/"
        },
        "id": "CMuMaOoL7jbH",
        "outputId": "6e364e60-37bc-4f5b-904b-e410fe308ac6"
      },
      "execution_count": null,
      "outputs": [
        {
          "output_type": "execute_result",
          "data": {
            "text/plain": [
              "XGBClassifier(base_score=None, booster=None, colsample_bylevel=None,\n",
              "              colsample_bynode=None, colsample_bytree=None,\n",
              "              enable_categorical=False, gamma=None, gpu_id=None,\n",
              "              importance_type=None, interaction_constraints=None,\n",
              "              learning_rate=None, max_delta_step=None, max_depth=None,\n",
              "              min_child_weight=None, missing=nan, monotone_constraints=None,\n",
              "              n_estimators=100, n_jobs=None, num_parallel_tree=None,\n",
              "              objective={'gamma': [0.1], 'learning_rate': [0.1],\n",
              "                         'max_delta_step': [0], 'max_depth': [9],\n",
              "                         'min_child_weight': [1], 'min_split_loss': [0.01],\n",
              "                         'n_estimators': [25]},\n",
              "              predictor=None, random_state=42, reg_alpha=None, reg_lambda=None,\n",
              "              scale_pos_weight=None, subsample=None, tree_method=None,\n",
              "              validate_parameters=None, verbosity=None)"
            ]
          },
          "metadata": {},
          "execution_count": 72
        }
      ]
    },
    {
      "cell_type": "code",
      "source": [
        "import six\n",
        "import sys\n",
        "sys.modules['sklearn.externals.six'] = six\n",
        "from mlxtend.regressor import StackingCVRegressor\n",
        "from mlxtend.classifier import StackingCVClassifier\n",
        "from sklearn import model_selection\n",
        "from cuml.linear_model import LogisticRegression\n",
        "lr = LogisticRegression()\n",
        "stack = StackingCVClassifier(classifiers=[xgb_model_stack,svc_model_stack],\n",
        "                            meta_classifier=lr, cv=10,\n",
        "                            use_features_in_secondary=False,\n",
        "                            store_train_meta_features=True,\n",
        "                            shuffle=False)"
      ],
      "metadata": {
        "id": "beuiXMqBzTsn"
      },
      "execution_count": null,
      "outputs": []
    },
    {
      "cell_type": "code",
      "source": [
        "stack"
      ],
      "metadata": {
        "colab": {
          "base_uri": "https://localhost:8080/"
        },
        "id": "U97tf42E6u71",
        "outputId": "d490a001-6d0d-48bf-f7f0-d2c515a3ff68"
      },
      "execution_count": null,
      "outputs": [
        {
          "output_type": "execute_result",
          "data": {
            "text/plain": [
              "StackingCVClassifier(classifiers=[XGBClassifier(base_score=None, booster=None,\n",
              "                                                colsample_bylevel=None,\n",
              "                                                colsample_bynode=None,\n",
              "                                                colsample_bytree=None,\n",
              "                                                enable_categorical=False,\n",
              "                                                gamma=0, gpu_id=None,\n",
              "                                                importance_type=None,\n",
              "                                                interaction_constraints=None,\n",
              "                                                learning_rate=0.1,\n",
              "                                                max_delta_step=0, max_depth=9,\n",
              "                                                min_child_weight=1,\n",
              "                                                min_split_loss=0.01,\n",
              "                                                missing=nan,\n",
              "                                                monotone_cons...\n",
              "                                                predictor=None, random_state=42,\n",
              "                                                reg_alpha=None, reg_lambda=None,\n",
              "                                                scale_pos_weight=None,\n",
              "                                                subsample=None,\n",
              "                                                tree_method=None,\n",
              "                                                validate_parameters=None,\n",
              "                                                verbosity=None),\n",
              "                                  SVC(C=0.1, class_weight='balanced',\n",
              "                                      kernel='linear', probability=True,\n",
              "                                      random_state=42)],\n",
              "                     cv=10, meta_classifier=LogisticRegression(), shuffle=False,\n",
              "                     store_train_meta_features=True,\n",
              "                     use_features_in_secondary=True)"
            ]
          },
          "metadata": {},
          "execution_count": 77
        }
      ]
    },
    {
      "cell_type": "code",
      "source": [
        "for clf, label in zip([xgb_model_stack, svc_model_stack,stack], \n",
        "                      ['xgb', \n",
        "                       'svc', \n",
        "                       'StackingClassifier']):\n",
        "\n",
        "    scores = model_selection.cross_val_score(clf,x_train , y_train,cv=10, scoring='accuracy')\n",
        "    print(\"Accuracy: %0.2f (+/- %0.2f) [%s]\" \n",
        "          % (scores.mean(), scores.std(), label))"
      ],
      "metadata": {
        "id": "iXleZoFMzW3C"
      },
      "execution_count": null,
      "outputs": []
    },
    {
      "cell_type": "code",
      "source": [
        "result=stack.fit(x_train.values ,y_train.values)"
      ],
      "metadata": {
        "colab": {
          "base_uri": "https://localhost:8080/"
        },
        "id": "_EBcElbU4Pq4",
        "outputId": "b7b3b4ea-9b73-43d7-ffc6-ee2e746c028a"
      },
      "execution_count": null,
      "outputs": [
        {
          "output_type": "stream",
          "name": "stderr",
          "text": [
            "/usr/local/lib/python3.7/site-packages/xgboost/sklearn.py:1224: UserWarning: The use of label encoder in XGBClassifier is deprecated and will be removed in a future release. To remove this warning, do the following: 1) Pass option use_label_encoder=False when constructing XGBClassifier object; and 2) Encode your labels (y) as integers starting with 0, i.e. 0, 1, 2, ..., [num_class - 1].\n",
            "  warnings.warn(label_encoder_deprecation_msg, UserWarning)\n"
          ]
        },
        {
          "output_type": "stream",
          "name": "stdout",
          "text": [
            "[06:50:13] WARNING: /opt/conda/envs/rapids/conda-bld/xgboost_1639022671260/work/src/learner.cc:1115: Starting in XGBoost 1.3.0, the default evaluation metric used with the objective 'binary:logistic' was changed from 'error' to 'logloss'. Explicitly set eval_metric if you'd like to restore the old behavior.\n",
            "[06:50:13] WARNING: /opt/conda/envs/rapids/conda-bld/xgboost_1639022671260/work/src/learner.cc:1115: Starting in XGBoost 1.3.0, the default evaluation metric used with the objective 'binary:logistic' was changed from 'error' to 'logloss'. Explicitly set eval_metric if you'd like to restore the old behavior.\n",
            "[06:50:13] WARNING: /opt/conda/envs/rapids/conda-bld/xgboost_1639022671260/work/src/learner.cc:1115: Starting in XGBoost 1.3.0, the default evaluation metric used with the objective 'binary:logistic' was changed from 'error' to 'logloss'. Explicitly set eval_metric if you'd like to restore the old behavior.\n",
            "[06:50:13] WARNING: /opt/conda/envs/rapids/conda-bld/xgboost_1639022671260/work/src/learner.cc:1115: Starting in XGBoost 1.3.0, the default evaluation metric used with the objective 'binary:logistic' was changed from 'error' to 'logloss'. Explicitly set eval_metric if you'd like to restore the old behavior.\n",
            "[06:50:13] WARNING: /opt/conda/envs/rapids/conda-bld/xgboost_1639022671260/work/src/learner.cc:1115: Starting in XGBoost 1.3.0, the default evaluation metric used with the objective 'binary:logistic' was changed from 'error' to 'logloss'. Explicitly set eval_metric if you'd like to restore the old behavior.\n",
            "[06:50:13] WARNING: /opt/conda/envs/rapids/conda-bld/xgboost_1639022671260/work/src/learner.cc:1115: Starting in XGBoost 1.3.0, the default evaluation metric used with the objective 'binary:logistic' was changed from 'error' to 'logloss'. Explicitly set eval_metric if you'd like to restore the old behavior.\n",
            "[06:50:13] WARNING: /opt/conda/envs/rapids/conda-bld/xgboost_1639022671260/work/src/learner.cc:1115: Starting in XGBoost 1.3.0, the default evaluation metric used with the objective 'binary:logistic' was changed from 'error' to 'logloss'. Explicitly set eval_metric if you'd like to restore the old behavior.\n",
            "[06:50:13] WARNING: /opt/conda/envs/rapids/conda-bld/xgboost_1639022671260/work/src/learner.cc:1115: Starting in XGBoost 1.3.0, the default evaluation metric used with the objective 'binary:logistic' was changed from 'error' to 'logloss'. Explicitly set eval_metric if you'd like to restore the old behavior.\n",
            "[06:50:13] WARNING: /opt/conda/envs/rapids/conda-bld/xgboost_1639022671260/work/src/learner.cc:1115: Starting in XGBoost 1.3.0, the default evaluation metric used with the objective 'binary:logistic' was changed from 'error' to 'logloss'. Explicitly set eval_metric if you'd like to restore the old behavior.\n",
            "[06:50:13] WARNING: /opt/conda/envs/rapids/conda-bld/xgboost_1639022671260/work/src/learner.cc:1115: Starting in XGBoost 1.3.0, the default evaluation metric used with the objective 'binary:logistic' was changed from 'error' to 'logloss'. Explicitly set eval_metric if you'd like to restore the old behavior.\n"
          ]
        },
        {
          "output_type": "stream",
          "name": "stderr",
          "text": [
            "/usr/local/lib/python3.7/site-packages/xgboost/sklearn.py:1224: UserWarning: The use of label encoder in XGBClassifier is deprecated and will be removed in a future release. To remove this warning, do the following: 1) Pass option use_label_encoder=False when constructing XGBClassifier object; and 2) Encode your labels (y) as integers starting with 0, i.e. 0, 1, 2, ..., [num_class - 1].\n",
            "  warnings.warn(label_encoder_deprecation_msg, UserWarning)\n"
          ]
        },
        {
          "output_type": "stream",
          "name": "stdout",
          "text": [
            "[06:50:57] WARNING: /opt/conda/envs/rapids/conda-bld/xgboost_1639022671260/work/src/learner.cc:1115: Starting in XGBoost 1.3.0, the default evaluation metric used with the objective 'binary:logistic' was changed from 'error' to 'logloss'. Explicitly set eval_metric if you'd like to restore the old behavior.\n"
          ]
        }
      ]
    },
    {
      "cell_type": "code",
      "source": [
        "from sklearn import metrics\n",
        "pred = stack.predict(x_test)\n",
        "confusion_matrix = metrics.confusion_matrix(y_test, pred)\n",
        "cm_display = metrics.ConfusionMatrixDisplay(confusion_matrix = confusion_matrix, display_labels = [False, True])\n",
        "cm_display.plot()\n",
        "plt.show()"
      ],
      "metadata": {
        "colab": {
          "base_uri": "https://localhost:8080/",
          "height": 314
        },
        "id": "LO_AJ_Fy4Z-3",
        "outputId": "1bbcee9b-5c6a-431e-b7ce-81ac1107e9a5"
      },
      "execution_count": null,
      "outputs": [
        {
          "output_type": "stream",
          "name": "stderr",
          "text": [
            "/usr/local/lib/python3.7/site-packages/sklearn/base.py:444: UserWarning: X has feature names, but SVC was fitted without feature names\n",
            "  f\"X has feature names, but {self.__class__.__name__} was fitted without\"\n"
          ]
        },
        {
          "output_type": "display_data",
          "data": {
            "text/plain": [
              "<Figure size 432x288 with 2 Axes>"
            ],
            "image/png": "[encoded data removed]"
          },
          "metadata": {
            "needs_background": "light"
          }
        }
      ]
    },
    {
      "cell_type": "code",
      "source": [
        "## Import the library and functions you need\n",
        "from sklearn.metrics import f1_score, accuracy_score, precision_score, recall_score\n",
        "## Accuracy\n",
        "print(\"Accuracy:\",accuracy_score(y_test,pred))\n",
        "## Precision\n",
        "print(\"Precision:\",precision_score(y_test,pred))\n",
        "## Recall\n",
        "print(\"Recall:\",recall_score(y_test,pred))\n",
        "## F1 Score\n",
        "print(\"F1:\",f1_score(y_test,pred))"
      ],
      "metadata": {
        "colab": {
          "base_uri": "https://localhost:8080/"
        },
        "id": "aCCgGUj6_kHB",
        "outputId": "a17c7e87-cd5c-4804-d49e-9e5d0fc4b2ea"
      },
      "execution_count": null,
      "outputs": [
        {
          "output_type": "stream",
          "name": "stdout",
          "text": [
            "Accuracy: 0.8314606741573034\n",
            "Precision: 0.7931034482758621\n",
            "Recall: 0.71875\n",
            "F1: 0.7540983606557378\n"
          ]
        }
      ]
    },
    {
      "cell_type": "code",
      "source": [
        "result.meta_clf_.intercept_"
      ],
      "metadata": {
        "colab": {
          "base_uri": "https://localhost:8080/"
        },
        "id": "hOHe9vcQBOA7",
        "outputId": "3c9f1039-85f3-4a1e-b8b4-287a90033c5a"
      },
      "execution_count": null,
      "outputs": [
        {
          "output_type": "execute_result",
          "data": {
            "text/plain": [
              "array([-4.30152593])"
            ]
          },
          "metadata": {},
          "execution_count": 97
        }
      ]
    },
    {
      "cell_type": "code",
      "source": [
        "result.meta_clf_.coef_"
      ],
      "metadata": {
        "colab": {
          "base_uri": "https://localhost:8080/"
        },
        "id": "vZzx9-xtBQPm",
        "outputId": "80922392-480b-41c9-eca7-0290697058be"
      },
      "execution_count": null,
      "outputs": [
        {
          "output_type": "execute_result",
          "data": {
            "text/plain": [
              "array([[ 0.0060639 ],\n",
              "       [ 3.01551109],\n",
              "       [ 0.54528518],\n",
              "       [-0.10738764],\n",
              "       [ 1.5173679 ],\n",
              "       [ 0.93014286]])"
            ]
          },
          "metadata": {},
          "execution_count": 98
        }
      ]
    },
    {
      "cell_type": "code",
      "source": [
        "result.score(x_train, y_train)"
      ],
      "metadata": {
        "colab": {
          "base_uri": "https://localhost:8080/"
        },
        "id": "hrQyFr3CBR3O",
        "outputId": "b63950ed-c170-40bf-82b2-e3d8b48f1b08"
      },
      "execution_count": null,
      "outputs": [
        {
          "output_type": "stream",
          "name": "stderr",
          "text": [
            "/usr/local/lib/python3.7/site-packages/sklearn/base.py:444: UserWarning: X has feature names, but SVC was fitted without feature names\n",
            "  f\"X has feature names, but {self.__class__.__name__} was fitted without\"\n"
          ]
        },
        {
          "output_type": "execute_result",
          "data": {
            "text/plain": [
              "0.8846153846153846"
            ]
          },
          "metadata": {},
          "execution_count": 100
        }
      ]
    }
  ],
  "metadata": {
    "accelerator": "GPU",
    "colab": {
      "collapsed_sections": [
        "z_S2MS-KCMVw",
        "Zws9FPe1j1Hm",
        "28kyTsBqmRdE",
        "uH_JYm7Zwgx9",
        "9dAJ-wEqwMNE",
        "Br_mDt_WzAQK"
      ],
      "name": "cuml_for_titanic.ipynb",
      "provenance": []
    },
    "gpuClass": "standard",
    "kernelspec": {
      "display_name": "Python 3",
      "name": "python3"
    },
    "language_info": {
      "name": "python"
    }
  },
  "nbformat": 4,
  "nbformat_minor": 0
}