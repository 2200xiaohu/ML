{
 "cells": [
  {
   "cell_type": "code",
   "execution_count": 2,
   "metadata": {},
   "outputs": [],
   "source": [
    "import numpy as np\n",
    "import pandas as pd\n",
    "import matplotlib.pyplot as plt\n",
    "from sklearn.model_selection import train_test_split\n",
    "import os\n",
    "from Smile import data_process as data_process\n",
    "import Smile"
   ]
  },
  {
   "cell_type": "code",
   "execution_count": 2,
   "metadata": {},
   "outputs": [],
   "source": [
    "path = 'titanic/train.csv'\n",
    "type = 'csv'\n",
    "process = dp.Mytransform()\n",
    "\n",
    "df = process.load_data(path,type)\n",
    "df = df.dropna()\n",
    "target_name = 'Survived'\n",
    "exp_col = [i for i in df.columns if (df[i].dtype=='O')]+[target_name]\n",
    "\n",
    "y = df[target_name]\n",
    "x = df.drop(exp_col, axis=1)\n",
    "\n",
    "\n",
    "def set_seed(seed_value):\n",
    "    os.environ[\"PYTHONHASHSEED\"] = str(seed_value)\n",
    "    \n",
    "\n",
    "SEED = 42\n",
    "set_seed(SEED)\n",
    "#划分训练集\n",
    "#x_train, x_test, y_train, y_test = train_test_split(x,y,test_size=,trian_size=,random_state,shuffle,stratify)\n",
    "x_train, x_test, y_train, y_test = train_test_split(x,y,test_size=0.2,random_state=SEED)"
   ]
  },
  {
   "cell_type": "code",
   "execution_count": 4,
   "metadata": {},
   "outputs": [],
   "source": [
    "x_train = process.transform(x_train)\n",
    "x_test = process.fit_transform(x_test)"
   ]
  },
  {
   "cell_type": "code",
   "execution_count": 7,
   "metadata": {},
   "outputs": [
    {
     "name": "stdout",
     "output_type": "stream",
     "text": [
      "[0.56666667 0.44827586 0.68965517 0.62068966 0.55172414]\n"
     ]
    }
   ],
   "source": [
    "Mt = Smile.Mytree()\n",
    "Mt.cv_fit(x_train,y_train,k=5)"
   ]
  },
  {
   "cell_type": "code",
   "execution_count": 14,
   "metadata": {},
   "outputs": [
    {
     "ename": "TypeError",
     "evalue": "grid_search() got an unexpected keyword argument 'k'",
     "output_type": "error",
     "traceback": [
      "\u001b[1;31m---------------------------------------------------------------------------\u001b[0m",
      "\u001b[1;31mTypeError\u001b[0m                                 Traceback (most recent call last)",
      "\u001b[1;32m~\\AppData\\Local\\Temp\\ipykernel_16748\\29869138.py\u001b[0m in \u001b[0;36m<module>\u001b[1;34m\u001b[0m\n\u001b[0;32m     13\u001b[0m     \u001b[1;31m#\"ccp_alpha\":non-negative float, default=0.0\u001b[0m\u001b[1;33m\u001b[0m\u001b[1;33m\u001b[0m\u001b[1;33m\u001b[0m\u001b[0m\n\u001b[0;32m     14\u001b[0m }\n\u001b[1;32m---> 15\u001b[1;33m \u001b[0mMt\u001b[0m\u001b[1;33m.\u001b[0m\u001b[0mgrid_search\u001b[0m\u001b[1;33m(\u001b[0m\u001b[0mx_train\u001b[0m\u001b[1;33m,\u001b[0m\u001b[0my_train\u001b[0m\u001b[1;33m,\u001b[0m\u001b[0mparameters_tree\u001b[0m\u001b[1;33m,\u001b[0m\u001b[0mk\u001b[0m\u001b[1;33m=\u001b[0m\u001b[1;36m5\u001b[0m\u001b[1;33m)\u001b[0m\u001b[1;33m\u001b[0m\u001b[1;33m\u001b[0m\u001b[0m\n\u001b[0m",
      "\u001b[1;31mTypeError\u001b[0m: grid_search() got an unexpected keyword argument 'k'"
     ]
    }
   ],
   "source": [
    "parameters_tree = {\n",
    "    \"criterion\": [\"gini\", \"entropy\"],#\"log_loss\"\n",
    "    \"splitter\": [\"best\",\"random\"],\n",
    "    'random_state':[SEED],\n",
    "    'max_depth':[i for i in np.arange(3,20,step=1,dtype=int)]\n",
    "    #\"max_leaf_nodes\":float,default=0\n",
    "    #\"max_depth\": int,\n",
    "    #\"min_samples_split\":int ,default=2\n",
    "    #\"min_samples_leaf\":int,default=1\n",
    "    #\"min_weight_fraction_leaf:\"float,default=0\n",
    "    #\"max_featuresint\": float or {“auto”, “sqrt”, “log2”}, default=None\n",
    "    #\"class_weight\":dict, list of dict or “balanced”, default=None\n",
    "    #\"ccp_alpha\":non-negative float, default=0.0\n",
    "}\n",
    "Mt.grid_search(x_train,y_train,parameters_tree,k=5)"
   ]
  },
  {
   "cell_type": "code",
   "execution_count": 20,
   "metadata": {},
   "outputs": [
    {
     "name": "stdout",
     "output_type": "stream",
     "text": [
      "Test score: 0.70\n"
     ]
    }
   ],
   "source": [
    "from sklearn.pipeline import make_pipeline\n",
    "from sklearn.linear_model import LogisticRegression\n",
    "from sklearn.preprocessing import StandardScaler\n",
    "pipe = make_pipeline(StandardScaler(), LogisticRegression())\n",
    "pipe.fit(x_train, y_train)\n",
    "y_pred = pipe.predict(x_test)\n",
    "print(\"Test score: {:.2f}\".format(pipe.score(x_test, y_test)))"
   ]
  }
 ],
 "metadata": {
  "kernelspec": {
   "display_name": "tensorflow",
   "language": "python",
   "name": "python3"
  },
  "language_info": {
   "codemirror_mode": {
    "name": "ipython",
    "version": 3
   },
   "file_extension": ".py",
   "mimetype": "text/x-python",
   "name": "python",
   "nbconvert_exporter": "python",
   "pygments_lexer": "ipython3",
   "version": "3.7.13"
  },
  "orig_nbformat": 4
 },
 "nbformat": 4,
 "nbformat_minor": 2
}
