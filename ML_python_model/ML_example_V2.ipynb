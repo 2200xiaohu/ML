{
 "cells": [
  {
   "cell_type": "code",
   "execution_count": 1,
   "metadata": {},
   "outputs": [],
   "source": [
    "import numpy as np\n",
    "import pandas as pd\n",
    "import matplotlib.pyplot as plt\n",
    "from sklearn.model_selection import train_test_split\n",
    "import os\n",
    "from Smile.preprocess import data_process as dp\n",
    "from Smile.model import Mymodel"
   ]
  },
  {
   "cell_type": "code",
   "execution_count": 2,
   "metadata": {},
   "outputs": [],
   "source": [
    "path = 'titanic/train.csv'\n",
    "type = 'csv'\n",
    "process = dp.Mytransform()\n",
    "\n",
    "df = process.load_data(path,type)\n",
    "df = df.dropna()\n",
    "target_name = 'Survived'\n",
    "exp_col = [i for i in df.columns if (df[i].dtype=='O')]+[target_name]\n",
    "\n",
    "y = df[target_name]\n",
    "x = df.drop(exp_col, axis=1)\n",
    "\n",
    "\n",
    "def set_seed(seed_value):\n",
    "    os.environ[\"PYTHONHASHSEED\"] = str(seed_value)\n",
    "    \n",
    "\n",
    "SEED = 42\n",
    "set_seed(SEED)\n",
    "#划分训练集\n",
    "#x_train, x_test, y_train, y_test = train_test_split(x,y,test_size=,trian_size=,random_state,shuffle,stratify)\n",
    "x_train, x_test, y_train, y_test = train_test_split(x,y,test_size=0.2,random_state=SEED)"
   ]
  },
  {
   "cell_type": "code",
   "execution_count": 14,
   "metadata": {},
   "outputs": [],
   "source": [
    "x_train = process.transform(x_train)\n",
    "x_test = process.fit_transform(x_test)"
   ]
  },
  {
   "cell_type": "code",
   "execution_count": 5,
   "metadata": {},
   "outputs": [
    {
     "name": "stdout",
     "output_type": "stream",
     "text": [
      "DecisionTreeClassifier()\n",
      "Fitting 5 folds for each of 68 candidates, totalling 340 fits\n",
      "-----\n",
      "Time= 5.847991704940796\n",
      "Best parameters {'criterion': 'gini', 'max_depth': 3, 'random_state': 42, 'splitter': 'best'}\n",
      "Mean cross-validated accuracy score of the best_estimator: 0.698\n",
      "-----\n"
     ]
    }
   ],
   "source": [
    "parameters_tree = {\n",
    "    \"criterion\": [\"gini\", \"entropy\"],#\"log_loss\"\n",
    "    \"splitter\": [\"best\",\"random\"],\n",
    "    'random_state':[SEED],\n",
    "    'max_depth':[i for i in np.arange(3,20,step=1,dtype=int)]\n",
    "    #\"max_leaf_nodes\":float,default=0\n",
    "    #\"max_depth\": int,\n",
    "    #\"min_samples_split\":int ,default=2\n",
    "    #\"min_samples_leaf\":int,default=1\n",
    "    #\"min_weight_fraction_leaf:\"float,default=0\n",
    "    #\"max_featuresint\": float or {“auto”, “sqrt”, “log2”}, default=None\n",
    "    #\"class_weight\":dict, list of dict or “balanced”, default=None\n",
    "    #\"ccp_alpha\":non-negative float, default=0.0\n",
    "}\n",
    "Mt.grid_search(x_train,y_train,parameters_tree,k=5)"
   ]
  },
  {
   "cell_type": "code",
   "execution_count": 20,
   "metadata": {},
   "outputs": [
    {
     "name": "stdout",
     "output_type": "stream",
     "text": [
      "Test score: 0.70\n"
     ]
    }
   ],
   "source": [
    "from sklearn.pipeline import make_pipeline\n",
    "from sklearn.linear_model import LogisticRegression\n",
    "from sklearn.preprocessing import StandardScaler\n",
    "pipe = make_pipeline(StandardScaler(), LogisticRegression())\n",
    "pipe.fit(x_train, y_train)\n",
    "y_pred = pipe.predict(x_test)\n",
    "print(\"Test score: {:.2f}\".format(pipe.score(x_test, y_test)))"
   ]
  },
  {
   "cell_type": "code",
   "execution_count": 2,
   "metadata": {},
   "outputs": [
    {
     "ename": "ImportError",
     "evalue": "cannot import name 'MySVM' from 'Smile.model' (d:\\python\\envs\\tensorflow\\lib\\site-packages\\Smile\\model\\__init__.py)",
     "output_type": "error",
     "traceback": [
      "\u001b[1;31m---------------------------------------------------------------------------\u001b[0m",
      "\u001b[1;31mImportError\u001b[0m                               Traceback (most recent call last)",
      "\u001b[1;32m~\\AppData\\Local\\Temp\\ipykernel_31360\\3347990764.py\u001b[0m in \u001b[0;36m<module>\u001b[1;34m\u001b[0m\n\u001b[1;32m----> 1\u001b[1;33m \u001b[1;32mfrom\u001b[0m \u001b[0mSmile\u001b[0m\u001b[1;33m.\u001b[0m\u001b[0mmodel\u001b[0m \u001b[1;32mimport\u001b[0m \u001b[0mMySVM\u001b[0m\u001b[1;33m\u001b[0m\u001b[1;33m\u001b[0m\u001b[0m\n\u001b[0m",
      "\u001b[1;31mImportError\u001b[0m: cannot import name 'MySVM' from 'Smile.model' (d:\\python\\envs\\tensorflow\\lib\\site-packages\\Smile\\model\\__init__.py)"
     ]
    }
   ],
   "source": [
    "from Smile.model import MySVM"
   ]
  }
 ],
 "metadata": {
  "kernelspec": {
   "display_name": "tensorflow",
   "language": "python",
   "name": "python3"
  },
  "language_info": {
   "codemirror_mode": {
    "name": "ipython",
    "version": 3
   },
   "file_extension": ".py",
   "mimetype": "text/x-python",
   "name": "python",
   "nbconvert_exporter": "python",
   "pygments_lexer": "ipython3",
   "version": "3.7.13"
  },
  "orig_nbformat": 4
 },
 "nbformat": 4,
 "nbformat_minor": 2
}
