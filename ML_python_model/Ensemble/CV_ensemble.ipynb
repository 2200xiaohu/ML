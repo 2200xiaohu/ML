{
 "cells": [
  {
   "cell_type": "code",
   "execution_count": 1,
   "metadata": {},
   "outputs": [],
   "source": [
    "import pandas as pd\n",
    "import numpy as np\n",
    "from lightgbm import LGBMClassifier, LGBMRegressor\n",
    "from sklearn.model_selection import StratifiedKFold\n",
    "from sklearn.metrics import roc_auc_score\n",
    "from xgboost import XGBClassifier, XGBRegressor\n",
    "from catboost import CatBoostClassifier, CatBoostRegressor\n",
    "from sklearn.linear_model import LogisticRegression, Ridge\n",
    "import lightgbm\n",
    "from scipy.optimize import minimize\n",
    "from sklearn.preprocessing import StandardScaler\n"
   ]
  },
  {
   "cell_type": "code",
   "execution_count": 2,
   "metadata": {},
   "outputs": [],
   "source": [
    "train = pd.read_csv('../Data/train.csv')\n",
    "test = pd.read_csv('../Data/pre_contest_test.csv')"
   ]
  },
  {
   "cell_type": "code",
   "execution_count": 3,
   "metadata": {},
   "outputs": [],
   "source": [
    "train_targets = train['label']\n",
    "train.drop(\"label\", axis=1, inplace=True)"
   ]
  },
  {
   "cell_type": "code",
   "execution_count": 32,
   "metadata": {},
   "outputs": [
    {
     "name": "stdout",
     "output_type": "stream",
     "text": [
      "---------->Fold 1<----------\n",
      "Auc is0.9858581487884291\n",
      "[LightGBM] [Warning] early_stopping_round is set=100, early_stopping_rounds=100 will be ignored. Current value: early_stopping_round=100\n"
     ]
    },
    {
     "name": "stderr",
     "output_type": "stream",
     "text": [
      "d:\\python\\envs\\automl\\lib\\site-packages\\lightgbm\\sklearn.py:736: UserWarning: 'verbose' argument is deprecated and will be removed in a future release of LightGBM. Pass 'log_evaluation()' callback via 'callbacks' argument instead.\n",
      "  _log_warning(\"'verbose' argument is deprecated and will be removed in a future release of LightGBM. \"\n"
     ]
    },
    {
     "name": "stdout",
     "output_type": "stream",
     "text": [
      "Auc is : 0.9871420798127959\n",
      "Auc is : 0.9869624657267716\n"
     ]
    },
    {
     "name": "stderr",
     "output_type": "stream",
     "text": [
      "d:\\python\\envs\\automl\\lib\\site-packages\\scipy\\optimize\\_minimize.py:569: RuntimeWarning: Method Nelder-Mead cannot handle constraints.\n",
      "  warn('Method %s cannot handle constraints.' % method,\n"
     ]
    },
    {
     "name": "stdout",
     "output_type": "stream",
     "text": [
      "0.9879390838702858\n",
      "---------->Fold 2<----------\n",
      "Auc is0.9851382544470413\n",
      "[LightGBM] [Warning] early_stopping_round is set=100, early_stopping_rounds=100 will be ignored. Current value: early_stopping_round=100\n"
     ]
    },
    {
     "name": "stderr",
     "output_type": "stream",
     "text": [
      "d:\\python\\envs\\automl\\lib\\site-packages\\lightgbm\\sklearn.py:736: UserWarning: 'verbose' argument is deprecated and will be removed in a future release of LightGBM. Pass 'log_evaluation()' callback via 'callbacks' argument instead.\n",
      "  _log_warning(\"'verbose' argument is deprecated and will be removed in a future release of LightGBM. \"\n"
     ]
    },
    {
     "name": "stdout",
     "output_type": "stream",
     "text": [
      "Auc is : 0.9867199009820983\n",
      "Auc is : 0.9860330336252473\n"
     ]
    },
    {
     "name": "stderr",
     "output_type": "stream",
     "text": [
      "d:\\python\\envs\\automl\\lib\\site-packages\\scipy\\optimize\\_minimize.py:569: RuntimeWarning: Method Nelder-Mead cannot handle constraints.\n",
      "  warn('Method %s cannot handle constraints.' % method,\n"
     ]
    },
    {
     "name": "stdout",
     "output_type": "stream",
     "text": [
      "0.9879021761780004\n",
      "---------->Fold 3<----------\n",
      "Auc is0.988013141337193\n",
      "[LightGBM] [Warning] early_stopping_round is set=100, early_stopping_rounds=100 will be ignored. Current value: early_stopping_round=100\n"
     ]
    },
    {
     "name": "stderr",
     "output_type": "stream",
     "text": [
      "d:\\python\\envs\\automl\\lib\\site-packages\\lightgbm\\sklearn.py:736: UserWarning: 'verbose' argument is deprecated and will be removed in a future release of LightGBM. Pass 'log_evaluation()' callback via 'callbacks' argument instead.\n",
      "  _log_warning(\"'verbose' argument is deprecated and will be removed in a future release of LightGBM. \"\n"
     ]
    },
    {
     "name": "stdout",
     "output_type": "stream",
     "text": [
      "Auc is : 0.9892972111950478\n",
      "Auc is : 0.9882468396982409\n"
     ]
    },
    {
     "name": "stderr",
     "output_type": "stream",
     "text": [
      "d:\\python\\envs\\automl\\lib\\site-packages\\scipy\\optimize\\_minimize.py:569: RuntimeWarning: Method Nelder-Mead cannot handle constraints.\n",
      "  warn('Method %s cannot handle constraints.' % method,\n"
     ]
    },
    {
     "name": "stdout",
     "output_type": "stream",
     "text": [
      "0.9899379712091784\n",
      "---------->Fold 4<----------\n",
      "Auc is0.9844479527722602\n",
      "[LightGBM] [Warning] early_stopping_round is set=100, early_stopping_rounds=100 will be ignored. Current value: early_stopping_round=100\n"
     ]
    },
    {
     "name": "stderr",
     "output_type": "stream",
     "text": [
      "d:\\python\\envs\\automl\\lib\\site-packages\\lightgbm\\sklearn.py:736: UserWarning: 'verbose' argument is deprecated and will be removed in a future release of LightGBM. Pass 'log_evaluation()' callback via 'callbacks' argument instead.\n",
      "  _log_warning(\"'verbose' argument is deprecated and will be removed in a future release of LightGBM. \"\n"
     ]
    },
    {
     "name": "stdout",
     "output_type": "stream",
     "text": [
      "Auc is : 0.9833524472254274\n",
      "Auc is : 0.9844869744788477\n"
     ]
    },
    {
     "name": "stderr",
     "output_type": "stream",
     "text": [
      "d:\\python\\envs\\automl\\lib\\site-packages\\scipy\\optimize\\_minimize.py:569: RuntimeWarning: Method Nelder-Mead cannot handle constraints.\n",
      "  warn('Method %s cannot handle constraints.' % method,\n"
     ]
    },
    {
     "name": "stdout",
     "output_type": "stream",
     "text": [
      "0.9859446930923168\n",
      "---------->Fold 5<----------\n",
      "Auc is0.9852869706582711\n",
      "[LightGBM] [Warning] early_stopping_round is set=100, early_stopping_rounds=100 will be ignored. Current value: early_stopping_round=100\n"
     ]
    },
    {
     "name": "stderr",
     "output_type": "stream",
     "text": [
      "d:\\python\\envs\\automl\\lib\\site-packages\\lightgbm\\sklearn.py:736: UserWarning: 'verbose' argument is deprecated and will be removed in a future release of LightGBM. Pass 'log_evaluation()' callback via 'callbacks' argument instead.\n",
      "  _log_warning(\"'verbose' argument is deprecated and will be removed in a future release of LightGBM. \"\n"
     ]
    },
    {
     "name": "stdout",
     "output_type": "stream",
     "text": [
      "Auc is : 0.9869842368194174\n",
      "Auc is : 0.9861161917137274\n"
     ]
    },
    {
     "name": "stderr",
     "output_type": "stream",
     "text": [
      "d:\\python\\envs\\automl\\lib\\site-packages\\scipy\\optimize\\_minimize.py:569: RuntimeWarning: Method Nelder-Mead cannot handle constraints.\n",
      "  warn('Method %s cannot handle constraints.' % method,\n"
     ]
    },
    {
     "name": "stdout",
     "output_type": "stream",
     "text": [
      "0.9877006092632034\n",
      "CV: 0.987884906722597\n"
     ]
    }
   ],
   "source": [
    "test_preds = np.zeros((len(test), 6))\n",
    "cv = 0\n",
    "kf = StratifiedKFold(n_splits=5, shuffle=True, random_state=42)\n",
    "final_train = []\n",
    "final_test = []\n",
    "for fold, (train_idx, valid_idx) in enumerate(kf.split(train, train_targets)):\n",
    "    print(\"-\"*10 + \">\" + f\"Fold {fold+1}\" + \"<\" + \"-\"*10)\n",
    "    \n",
    "    X_train, X_valid = train.iloc[train_idx], train.iloc[valid_idx]\n",
    "    y_train, y_valid = train_targets.iloc[train_idx], train_targets.iloc[valid_idx]\n",
    "    \n",
    "    \n",
    "    ctb =CatBoostClassifier(n_estimators=10000, \n",
    "                         early_stopping_rounds=100, \n",
    "                         **{'depth': 3, 'subsample': 0.9037951675853159, 'l2_leaf_reg': 4.085968446512874, \n",
    "                            'learning_rate': 0.33153188532829714,\"thread_count\":-1,'loss_function':'MultiClass','bootstrap_type':'Bernoulli'})\n",
    "    \n",
    "    ctb.fit(X_train, y_train, eval_set=(X_valid, y_valid), verbose=0)\n",
    "    \n",
    "    ctb_preds = ctb.predict_proba(X_valid)[:,:]\n",
    "    ctb_test_preds = ctb.predict_proba(test)[:,:]\n",
    "    \n",
    "    print(f\"Auc is{roc_auc_score(y_valid, ctb_preds, multi_class='ovr',average='macro')}\")\n",
    "    \n",
    "    lgb = LGBMClassifier(n_estimators=10000, \n",
    "                         early_stopping_rounds=100, \n",
    "                         **{'max_depth': 7, \n",
    "                            'subsample': 0.5528027451731908, \n",
    "                            'colsample_bytree': 0.26714040676512085, \n",
    "                            'learning_rate': 0.11430358849370452,\n",
    "                            'objective':'multiclass','num_classes':6,'n_jobs':-1})\n",
    "    \n",
    "    lgb.fit(X_train, y_train, eval_set=(X_valid, y_valid), verbose=0)\n",
    "    \n",
    "    lgb_preds = lgb.predict_proba(X_valid)[:,:]\n",
    "    lgb_test_preds = lgb.predict_proba(test)[:,:]\n",
    "    \n",
    "    print(f\"Auc is : {roc_auc_score(y_valid, lgb_preds, multi_class='ovr',average='macro')}\")\n",
    "    \n",
    "    xgb = XGBClassifier(n_estimators=10000, \n",
    "                         early_stopping_rounds=100,\n",
    "                        **{'max_depth': 12, 'subsample': 0.5549531235327668, 'colsample_bytree': 0.20335345531973037, \n",
    "                           'learning_rate': 0.027251718255125106,'objective':'multiclass','n_jobs':-1})\n",
    "    \n",
    "    xgb.fit(X_train, y_train, eval_set=[(X_valid, y_valid)], verbose=0)\n",
    "    \n",
    "    xgb_preds = xgb.predict_proba(X_valid)[:,:]\n",
    "    xgb_test_preds = xgb.predict_proba(test)[:,:]\n",
    "    \n",
    "    print(f\"Auc is : {roc_auc_score(y_valid, xgb_preds, multi_class='ovr',average='macro')}\")\n",
    "            \n",
    "    meta_train = [lgb_preds, ctb_preds, xgb_preds]\n",
    "    meta_test = [lgb_test_preds, ctb_test_preds, xgb_test_preds]\n",
    "\n",
    "    final_train.append(meta_train)\n",
    "    final_test.append(meta_test)\n",
    "    #还有问题待修改\n",
    "    def roc_auc(weights):\n",
    "        fpred = np.zeros(meta_train[0].shape)\n",
    "        for i, pred in enumerate(meta_train):\n",
    "            fpred += weights[i] * pred\n",
    "\n",
    "        fpred = fpred / fpred.sum(axis=1, keepdims=True)\n",
    "\n",
    "        return -roc_auc_score(y_valid, fpred, multi_class='ovr', average='macro')\n",
    "\n",
    "    starting_values = [0.33]*len(meta_train) \n",
    "    cons = ({'type':'eq','fun':lambda w: 1-sum(w)})\n",
    "    bounds = [(-1,1)]*len(meta_train) \n",
    "    res = minimize(roc_auc, starting_values, method='Nelder-Mead', bounds=bounds, constraints=cons)\n",
    "\n",
    "    print(-res[\"fun\"])\n",
    "    \n",
    "    cv -= res[\"fun\"]\n",
    "    \n",
    "    for i, pred in enumerate(meta_test):\n",
    "        test_preds += res[\"x\"][i] * pred#简单的加总每次CV的结果\n",
    "\n",
    "print(f\"CV: {cv/(fold+1)}\")"
   ]
  },
  {
   "cell_type": "code",
   "execution_count": null,
   "metadata": {},
   "outputs": [],
   "source": [
    "for i in tqdm(range(len(feature))):\n",
    "    for j in range(i + 1, len(feature)):\n",
    "        ft1 = feature[i]\n",
    "        ft2 = feature[j]\n",
    "        df[ft1].astype(str) + '_' + df[ft2].astype(str)\n",
    "        for k in range(j + 1, len(feature)):\n",
    "            ft3 = feature[k]\n",
    "            df[ft1].astype(str) + '_' + df[ft2].astype(str) + '_' + df[ft3].astype(str)"
   ]
  },
  {
   "cell_type": "code",
   "execution_count": null,
   "metadata": {},
   "outputs": [],
   "source": [
    "new_columns_df = {}\n",
    "for i in tqdm(feature):\n",
    "    if i not in ['casulaties_vechicles','Number_of_Casualties','Number_of_Vehicles']:\n",
    "        for j in ['Number_of_Vehicles','Number_of_Casualties','casulaties_vechicles']:\n",
    "            if j != 'casulaties_vechicles':\n",
    "            #创建统计特征\n",
    "                tmp_dict = df.groupby([i])[j].agg(['mean','median','max','sum']).to_dict()\n",
    "                for k in tmp_dict:\n",
    "                    calcu_feature.append(f\"{k}_{j}_by_{i}\")\n",
    "                    new_columns_df[f\"{k}_{j}_by_{i}\"] = df[i].map(tmp_dict[k]).astype('float32')\n",
    "            else:\n",
    "                tmp_dict = df.groupby([i])[j].agg(['mean','median']).to_dict()\n",
    "                for k in tmp_dict:\n",
    "                    calcu_feature.append(f\"{k}_{j}_by_{i}\")\n",
    "                    new_columns_df[f\"{k}_{j}_by_{i}\"] = df[i].map(tmp_dict[k]).astype('float32')"
   ]
  },
  {
   "cell_type": "code",
   "execution_count": 33,
   "metadata": {},
   "outputs": [],
   "source": [
    "re = np.argmax(test_preds,axis=1)"
   ]
  },
  {
   "cell_type": "code",
   "execution_count": 35,
   "metadata": {},
   "outputs": [],
   "source": [
    "import json\n",
    "predictions_dict = {str(i):int(re[i]) for i in range(len(re))}\n",
    "with open(\"submit.json\", \"w\") as outfile:\n",
    "    json.dump(predictions_dict, outfile)"
   ]
  }
 ],
 "metadata": {
  "kernelspec": {
   "display_name": "automl",
   "language": "python",
   "name": "python3"
  },
  "language_info": {
   "codemirror_mode": {
    "name": "ipython",
    "version": 3
   },
   "file_extension": ".py",
   "mimetype": "text/x-python",
   "name": "python",
   "nbconvert_exporter": "python",
   "pygments_lexer": "ipython3",
   "version": "3.8.2"
  },
  "orig_nbformat": 4
 },
 "nbformat": 4,
 "nbformat_minor": 2
}
