{
 "cells": [
  {
   "cell_type": "code",
   "execution_count": 2,
   "metadata": {},
   "outputs": [],
   "source": [
    "import numpy as np\n",
    "import pandas as pd\n",
    "import matplotlib.pyplot as plt"
   ]
  },
  {
   "cell_type": "markdown",
   "metadata": {
    "id": "Iuq6agaqUi3N"
   },
   "source": [
    "# 划分训练集和数据预处理"
   ]
  },
  {
   "cell_type": "markdown",
   "metadata": {
    "id": "YI6WVTp-UyM8"
   },
   "source": [
    "## 数据预处理"
   ]
  },
  {
   "cell_type": "code",
   "execution_count": null,
   "metadata": {
    "id": "m6Hvfl4EU7NI"
   },
   "outputs": [],
   "source": [
    "data=pd.read_csv('C:/Users/nigel/Desktop/kaggle competition/titanic/data.csv')#导入数据\n",
    "cols = data.columns[data.columns != 'Survived']\n",
    "y=pd.DataFrame(data['Survived'])#y为目标变量\n",
    "x=data[cols]\n",
    "#转化格式\n",
    "data['Survived']=data['Survived'].astype('category',errors='ignore')#转换类型"
   ]
  },
  {
   "cell_type": "markdown",
   "metadata": {
    "id": "nmkpdZL_VWVq"
   },
   "source": [
    "## 划分训练集"
   ]
  },
  {
   "cell_type": "code",
   "execution_count": 3,
   "metadata": {
    "id": "yzfZ5P2NVaiW"
   },
   "outputs": [],
   "source": [
    "import random\n",
    "import os\n",
    "from sklearn.model_selection import train_test_split\n",
    "def set_seed(seed_value):\n",
    "    random.seed(seed_value)\n",
    "    np.random.seed(seed_value)\n",
    "    os.environ[\"PYTHONHASHSEED\"] = str(seed_value)\n",
    "    \n",
    "\n",
    "SEED = 42\n",
    "set_seed(SEED)\n",
    "#划分训练集\n",
    "#x_train, x_test, y_train, y_test = train_test_split(x,y,test_size=,trian_size=,random_state,shuffle,stratify)\n",
    "x_train, x_test, y_train, y_test = train_test_split(x,y,test_size=0.2,random_state=SEED)"
   ]
  },
  {
   "cell_type": "markdown",
   "metadata": {
    "id": "xKvQmpTOU21T"
   },
   "source": [
    "### 标准化和归一化"
   ]
  },
  {
   "cell_type": "code",
   "execution_count": null,
   "metadata": {},
   "outputs": [],
   "source": [
    "#标准化\n",
    "from sklearn.preprocessing import Normalizer\n",
    "from sklearn.preprocessing import StandardScaler\n",
    "normaler = Normalizer()\n",
    "scaler = StandardScaler()\n",
    "cols =x_train.columns\n",
    "x_train[cols] = scaler.fit_transform(x_train[cols])\n",
    "x_train[cols] = normaler.fit_transform(x_train[cols])\n",
    "x_test[cols] = scaler.transform(x_test[cols])\n",
    "x_test[cols] = normaler.transform(x_test[cols])"
   ]
  },
  {
   "cell_type": "markdown",
   "metadata": {
    "id": "8Wp1WyIIVx5d"
   },
   "source": [
    "# 训练模型\n"
   ]
  },
  {
   "cell_type": "markdown",
   "metadata": {
    "id": "e72QRhquV4N_"
   },
   "source": [
    "## 创建学习器 交叉验证选择超参数"
   ]
  },
  {
   "cell_type": "markdown",
   "metadata": {},
   "source": [
    "不同模型只需要更换学习器和参数"
   ]
  },
  {
   "cell_type": "markdown",
   "metadata": {},
   "source": [
    "### Decision Tree"
   ]
  },
  {
   "cell_type": "code",
   "execution_count": null,
   "metadata": {},
   "outputs": [],
   "source": [
    "import time\n",
    "from sklearn.model_selection import train_test_split,GridSearchCV\n",
    "from sklearn import tree\n",
    "cross_valid_scores = {}\n",
    "start=time.time()\n",
    "parameters_tree = {\n",
    "    \"criterion\": [\"gini\", \"entropy\"],#\"log_loss\"\n",
    "    \"splitter\": [\"best\",\"random\"],\n",
    "    'random_state':[SEED],\n",
    "    'max_depth':[i for i in np.arange(3,20,step=1,dtype=int)]\n",
    "    #\"max_leaf_nodes\":float,default=0\n",
    "    #\"max_depth\": int,\n",
    "    #\"min_samples_split\":int ,default=2\n",
    "    #\"min_samples_leaf\":int,default=1\n",
    "    #\"min_weight_fraction_leaf:\"float,default=0\n",
    "    #\"max_featuresint\": float or {“auto”, “sqrt”, “log2”}, default=None\n",
    "    #\"class_weight\":dict, list of dict or “balanced”, default=None\n",
    "    #\"ccp_alpha\":non-negative float, default=0.0\n",
    "}\n",
    "model_tree=tree.DecisionTreeClassifier()\n",
    "\n",
    "model_gridSearch_tree=GridSearchCV(model_tree,parameters_tree,cv=10,scoring='accuracy',verbose=1,return_train_score=True,n_jobs=-1)\n",
    "#model_svc.fit(x_train, y_train.values.ravel(),eval_set=[(x_test,y_test),(x_train,y_train)])\n",
    "model_gridSearch_tree.fit(x_train, y_train.values.ravel())\n",
    "end=time.time()\n",
    "print('-----')\n",
    "print(\"Time=\",end-start)\n",
    "print(f'Best parameters {model_gridSearch_tree.best_params_}')\n",
    "print(\n",
    "    f'Mean cross-validated accuracy score of the best_estimator: ' + \n",
    "    f'{model_gridSearch_tree.best_score_:.3f}'\n",
    ")\n",
    "cross_valid_scores['tree'] = model_gridSearch_tree.best_score_\n",
    "print('-----')"
   ]
  },
  {
   "cell_type": "code",
   "execution_count": null,
   "metadata": {},
   "outputs": [],
   "source": [
    "model_tree.set_params(**model_gridSearch_tree.best_params_)\n",
    "model_tree.get_params()\n"
   ]
  },
  {
   "cell_type": "code",
   "execution_count": null,
   "metadata": {},
   "outputs": [],
   "source": [
    "model_tree.fit(x_train, y_train.values.ravel())"
   ]
  },
  {
   "cell_type": "markdown",
   "metadata": {},
   "source": [
    "### logistics"
   ]
  },
  {
   "cell_type": "markdown",
   "metadata": {},
   "source": [
    "https://scikit-learn.org/stable/modules/generated/sklearn.linear_model.LogisticRegression.html  \n",
    "如果想获取模型拟合后的p值等，需要用statsmodels包"
   ]
  },
  {
   "cell_type": "markdown",
   "metadata": {},
   "source": [
    "solver超参数  \n",
    "Algorithm to use in the optimization problem. Default is ‘lbfgs’. To choose a solver, you might want to consider the following aspects:  \n",
    "1.For small datasets, ‘liblinear’ is a good choice, whereas ‘sag’ and ‘saga’ are faster for large ones;  \n",
    "2.For multiclass problems, only ‘newton-cg’, ‘sag’, ‘saga’ and ‘lbfgs’ handle multinomial loss;  \n",
    "3.‘liblinear’ is limited to one-versus-rest schemes.  \n",
    "  \n",
    "  \n",
    "正则化方法和solver超参数的兼容性  \n",
    "Warning The choice of the algorithm depends on the penalty chosen: Supported penalties by solver:  \n",
    "1.‘newton-cg’ - [‘l2’, ‘none’]  \n",
    "2.‘lbfgs’ - [‘l2’, ‘none’]  \n",
    "3.‘liblinear’ - [‘l1’, ‘l2’]  \n",
    "4.‘sag’ - [‘l2’, ‘none’]  \n",
    "5.‘saga’ - [‘elasticnet’, ‘l1’, ‘l2’, ‘none’]  "
   ]
  },
  {
   "cell_type": "code",
   "execution_count": null,
   "metadata": {},
   "outputs": [],
   "source": [
    "import time\n",
    "from sklearn.model_selection import train_test_split,GridSearchCV\n",
    "from sklearn.linear_model import LogisticRegression\n",
    "cross_valid_scores = {}\n",
    "start=time.time()\n",
    "parameters_lg = {\n",
    "    \"penalty\": ['l1', 'l2', 'elasticne', 'none'],#惩罚项，elasticne表示l1,l2\n",
    "    \"C\": [i for i in np.arange(0,10,0.5)],#正则化参数的倒数，越小正则化越强\n",
    "    'solver':['liblinear'],\n",
    "    'max_iter':[200],\n",
    "    'random_state':[SEED],\n",
    "    #'solver':['newton-cg', 'lbfgs', 'liblinear', 'sag', 'saga']\n",
    "    #multi_class{‘auto’, ‘ovr’, ‘multinomial’}, default=’auto’，非常有趣的一个超参数\n",
    "    #max_iter:int,default=100\n",
    "}\n",
    "model_lg=LogisticRegression()\n",
    "\n",
    "model_gridSearch_lg=GridSearchCV(model_lg,parameters_lg,cv=10,scoring='accuracy',verbose=1,return_train_score=True,n_jobs=-1)\n",
    "#model_svc.fit(x_train, y_train.values.ravel(),eval_set=[(x_test,y_test),(x_train,y_train)])\n",
    "model_gridSearch_lg.fit(x_train, y_train.values.ravel())\n",
    "end=time.time()\n",
    "print('-----')\n",
    "print(\"Time=\",end-start)\n",
    "print(f'Best parameters {model_gridSearch_lg.best_params_}')\n",
    "print(\n",
    "    f'Mean cross-validated accuracy score of the best_estimator: ' + \n",
    "    f'{model_gridSearch_lg.best_score_:.3f}'\n",
    ")\n",
    "cross_valid_scores['logistics'] = model_gridSearch_lg.best_score_\n",
    "print('-----')"
   ]
  },
  {
   "cell_type": "code",
   "execution_count": null,
   "metadata": {},
   "outputs": [],
   "source": [
    "model_lg.set_params(**model_gridSearch_lg.best_params_)\n",
    "model_lg.get_params()"
   ]
  },
  {
   "cell_type": "code",
   "execution_count": null,
   "metadata": {},
   "outputs": [],
   "source": [
    "model_lg.fit(x_train, y_train.values.ravel())"
   ]
  },
  {
   "cell_type": "markdown",
   "metadata": {},
   "source": [
    "### SVM"
   ]
  },
  {
   "cell_type": "markdown",
   "metadata": {},
   "source": [
    "https://scikit-learn.org/stable/modules/generated/sklearn.svm.SVC.html"
   ]
  },
  {
   "cell_type": "code",
   "execution_count": null,
   "metadata": {
    "id": "b6Oa6SQnWNHt"
   },
   "outputs": [],
   "source": [
    "import time\n",
    "from sklearn.model_selection import train_test_split, GridSearchCV\n",
    "from sklearn.svm import SVC\n",
    "cross_valid_scores = {}\n",
    "start=time.time()\n",
    "parameters_svc = {\n",
    "    \"C\": [i for i in np.arange(0.1,0.2,step=0.01)],\n",
    "    \"kernel\": [\"linear\",\"sigmoid\"],# \"poly\", \"rbf\", sigmoid\n",
    "    \"gamma\": [\"scale\", \"auto\"],\n",
    "    'random_state':[SEED]\n",
    "    #degreeint, default=3，当为poly时，多项式的度数，其他时则忽略\n",
    "    #max_iterint, default=-1,迭代次数，-1表示无限制\n",
    "}\n",
    "\n",
    "model_svc = SVC(\n",
    "    random_state=SEED,\n",
    "    class_weight=\"balanced\",\n",
    "    probability=True,\n",
    ")\n",
    "\n",
    "model_gridSearch_svm = GridSearchCV(\n",
    "    model_svc, \n",
    "    parameters_svc, \n",
    "    cv=10,\n",
    "    scoring='accuracy',\n",
    "    verbose=3,\n",
    "    n_jobs=-1\n",
    ")\n",
    "\n",
    "model_gridSearch_svm=model_gridSearch_svm.fit(x_train, y_train.values.ravel())\n",
    "end=time.time()\n",
    "print('-----')\n",
    "print(\"Time=\",end-start)\n",
    "print(f'Best parameters {model_gridSearch_svm.best_params_}')\n",
    "print(\n",
    "    f'Mean cross-validated accuracy score of the best_estimator: ' + \n",
    "    f'{model_gridSearch_svm.best_score_:.3f}'\n",
    ")\n",
    "cross_valid_scores['svm'] = model_gridSearch_svm.best_score_\n",
    "print('-----')"
   ]
  },
  {
   "cell_type": "code",
   "execution_count": null,
   "metadata": {},
   "outputs": [],
   "source": [
    "model_svc.set_params(**model_gridSearch_svm.best_params_)\n",
    "model_svc.get_params()"
   ]
  },
  {
   "cell_type": "code",
   "execution_count": null,
   "metadata": {},
   "outputs": [],
   "source": [
    "model_svc.fit(x_train, y_train.values.ravel())"
   ]
  },
  {
   "cell_type": "markdown",
   "metadata": {},
   "source": [
    "### KNN"
   ]
  },
  {
   "cell_type": "markdown",
   "metadata": {},
   "source": [
    "https://scikit-learn.org/stable/modules/generated/sklearn.neighbors.KNeighborsClassifier.html"
   ]
  },
  {
   "cell_type": "code",
   "execution_count": null,
   "metadata": {},
   "outputs": [],
   "source": [
    "import time\n",
    "from sklearn.neighbors import KNeighborsClassifier as knn\n",
    "from sklearn.model_selection import train_test_split, GridSearchCV\n",
    "cross_valid_scores = {}\n",
    "start=time.time()\n",
    "parameters_knn = {\n",
    "    \"n_neighbors\": [i for i in np.arange(1,10,dtype=int)],\n",
    "    \"leaf_size\":[i for i in np.arange(10,50,dtype=int)],\n",
    "    'p':[1,2]# 1 表示曼哈顿距离，2表示欧氏距离，其他的值，minkowski_distance\n",
    "    #weights{‘uniform’, ‘distance’} or callable, default=’uniform’\n",
    "    #algorithm{‘auto’, ‘ball_tree’, ‘kd_tree’, ‘brute’}, default=’auto’\n",
    "    #metric：str or callable, default=’minkowski’，控制距离度量，也可以自定义计算方式，或者传入已经计算好的距离\n",
    "    #metric_params：dict, default=None，将参数传入metric超参数中的自定义函数\n",
    "}\n",
    "\n",
    "model_knn = knn(\n",
    ")\n",
    "\n",
    "model_gridSearch_knn = GridSearchCV(\n",
    "    model_knn, \n",
    "    parameters_knn, \n",
    "    cv=10,\n",
    "    scoring='accuracy',\n",
    "    verbose=3,\n",
    "    n_jobs=-1\n",
    ")\n",
    "\n",
    "model_gridSearch_knn=model_gridSearch_knn.fit(x_train, y_train.values.ravel())\n",
    "end=time.time()\n",
    "print('-----')\n",
    "print(\"Time=\",end-start)\n",
    "print(f'Best parameters {model_gridSearch_knn.best_params_}')\n",
    "print(\n",
    "    f'Mean cross-validated accuracy score of the best_estimator: ' + \n",
    "    f'{model_gridSearch_knn.best_score_:.3f}'\n",
    ")\n",
    "cross_valid_scores['knn'] = model_gridSearch_knn.best_score_\n",
    "print('-----')"
   ]
  },
  {
   "cell_type": "code",
   "execution_count": null,
   "metadata": {},
   "outputs": [],
   "source": [
    "model_knn.set_params(**model_gridSearch_knn.best_params_)\n",
    "model_knn.get_params()"
   ]
  },
  {
   "cell_type": "code",
   "execution_count": null,
   "metadata": {},
   "outputs": [],
   "source": [
    "model_knn.fit(x_train, y_train.values.ravel())"
   ]
  },
  {
   "cell_type": "markdown",
   "metadata": {},
   "source": [
    "### XGBoost"
   ]
  },
  {
   "cell_type": "markdown",
   "metadata": {},
   "source": [
    "Sklearn API:https://xgboost.readthedocs.io/en/latest/python/python_api.html#module-xgboost.sklearn"
   ]
  },
  {
   "cell_type": "code",
   "execution_count": null,
   "metadata": {
    "id": "OzTDLVZ819wA"
   },
   "outputs": [],
   "source": [
    "import xgboost as xgb\n",
    "from sklearn.model_selection import train_test_split, GridSearchCV\n",
    "cross_valid_scores = {}\n",
    "import time\n",
    "start=time.time()\n",
    "parameters = {\n",
    "    'max_depth': [3, 5, 7, 9], \n",
    "    'n_estimators': [5, 10, 15, 20, 25, 50, 100],\n",
    "    'learning_rate': [0.01, 0.05, 0.1],\n",
    "    'gamma':[0],\n",
    "    'max_delta_step':[0],\n",
    "    'min_child_weight':[1],\n",
    "    'min_split_loss':[0.01],\n",
    "    'eval_metric':['error']\n",
    "    \n",
    "}\n",
    "\n",
    "model_xgb = xgb.XGBClassifier(\n",
    "    random_state=SEED,\n",
    "    objective='binary:logistic',\n",
    "    tree_method='gpu_hist',\n",
    "    predictor='gpu_predictor',n_jobs=-1,\n",
    "    enable_categorical=True,\n",
    "    max_cat_to_onehot=2\n",
    "\n",
    ")\n",
    "\n",
    "model_gridSearch_xgb = GridSearchCV(\n",
    "    model_xgb, \n",
    "    parameters, \n",
    "    cv=10,\n",
    "    scoring='accuracy',\n",
    "    verbose=3\n",
    ")\n",
    "\n",
    "model_gridSearch_xgb =model_gridSearch_xgb.fit(x_train, y_train.values.ravel())\n",
    "end=time.time()\n",
    "print('-----')\n",
    "print(\"Time=\",end-start)\n",
    "print(f'Best parameters {model_gridSearch_xgb .best_params_}')\n",
    "print(\n",
    "    f'Mean cross-validated accuracy score of the best_estimator: ' + \n",
    "    f'{model_gridSearch_xgb .best_score_:.3f}'\n",
    ")\n",
    "cross_valid_scores['xgboost'] = model_gridSearch_xgb .best_score_\n",
    "print('-----')\n",
    "### logistics"
   ]
  },
  {
   "cell_type": "code",
   "execution_count": null,
   "metadata": {},
   "outputs": [],
   "source": [
    "model_xgb.set_params(**model_gridSearch_xgb.best_params_)\n",
    "model_xgb.get_params()"
   ]
  },
  {
   "cell_type": "code",
   "execution_count": null,
   "metadata": {},
   "outputs": [],
   "source": [
    "model_xgb.fit(x_train,y_train,eval_set=[(x_test, y_test), (x_train, y_train)])"
   ]
  },
  {
   "cell_type": "code",
   "execution_count": null,
   "metadata": {},
   "outputs": [],
   "source": [
    "#预测为概率\n",
    "#y_score = model_xgb.predict_proba(x_test)[:, 1]"
   ]
  },
  {
   "cell_type": "code",
   "execution_count": null,
   "metadata": {},
   "outputs": [],
   "source": [
    "# Get a graph\n",
    "#graph = xgb.to_graphviz(model_xgb, num_trees=1)\n",
    "# Or get a matplotlib axis\n",
    "#ax = xgb.plot_tree(model_xgb, num_trees=1)\n",
    "# Get feature importances\n",
    "model_xgb.feature_importances_\n",
    "model_xgb.feature_names_in_"
   ]
  },
  {
   "cell_type": "code",
   "execution_count": null,
   "metadata": {},
   "outputs": [],
   "source": [
    "#保存模型\n",
    "model_xgb.save_model(\"categorical-model.json\")\n",
    "#读取模型\n",
    "model_xgb=model_xgb.load_model(\"categorical-model.json\")"
   ]
  },
  {
   "cell_type": "markdown",
   "metadata": {
    "id": "dH2RgWMCYFko"
   },
   "source": [
    "## 通过kfold获得各个模型在相同数据上的效果，比较选择模型"
   ]
  },
  {
   "cell_type": "code",
   "execution_count": null,
   "metadata": {
    "id": "4eyPBjAjdJW3"
   },
   "outputs": [],
   "source": [
    "#保存将要比较的模型\n",
    "#传递的是设置好超参数的模型\n",
    "models={\n",
    "    'svm':model_svc,\n",
    "    'Xgboost':model_xgb\n",
    "}\n",
    "\n",
    "from sklearn.model_selection import KFold, cross_val_score\n",
    "from sklearn.metrics import roc_auc_score\n",
    "## Import the library and functions you need\n",
    "from sklearn.metrics import f1_score, accuracy_score, precision_score, recall_score\n",
    "## Accuracy\n",
    "#print(\"Accuracy:\",accuracy_score(y_test,pred))\n",
    "## Precision\n",
    "#print(\"Precision:\",precision_score(y_test,pred))\n",
    "## Recall\n",
    "#print(\"Recall:\",recall_score(y_test,pred))\n",
    "## F1 Score\n",
    "#print(\"F1:\",f1_score(y_test,pred))\n",
    "#设置函数\n",
    "def kf_cross_val(model,X,y):\n",
    "    \n",
    "    feature_imp, features = [],[]\n",
    "\n",
    "    scores = pd.DataFrame(columns=['Accuracy','Precision','Recall','f1','roc_auc'])\n",
    "    \n",
    "    kf = KFold(n_splits=5,shuffle = True, random_state=42)\n",
    "    \n",
    "    for fold, (train_index, test_index) in enumerate(kf.split(X, y)):\n",
    "        \n",
    "        x_train = X.loc[train_index]\n",
    "        y_train = y.loc[train_index]\n",
    "        x_test = X.loc[test_index]\n",
    "        y_test = y.loc[test_index]\n",
    "        \n",
    "        model.fit(x_train,y_train.values.ravel())\n",
    "        \n",
    "        #y_pred = model.predict_proba(x_test)[:,1]     # edit \n",
    "        y_pred = model.predict(x_test)   # edit \n",
    "\n",
    "        roc_auc=roc_auc_score(y_test,y_pred)#roc曲线auc值\n",
    "        f1=f1_score(y_test,y_pred)\n",
    "        Recall=recall_score(y_test,y_pred)\n",
    "        Precision=precision_score(y_test,y_pred)\n",
    "        Accuracy=accuracy_score(y_test,y_pred)\n",
    "        metrics=np.array([Accuracy,Precision,Recall,f1,roc_auc]).reshape(1,5)\n",
    "        addto=pd.DataFrame(metrics,columns=['Accuracy','Precision','Recall','f1','roc_auc'],index=[fold])\n",
    "        scores=pd.concat([scores,addto])\n",
    "\n",
    "\n",
    "        \n",
    "        \n",
    "        try:\n",
    "            feature_imp.append(model.feature_importances_)\n",
    "            features.append(model.feature_names_)\n",
    "        except AttributeError: # if model does not have .feature_importances_ attribute\n",
    "            pass\n",
    "        \n",
    "    return feature_imp, scores, features\n",
    " \n",
    "results  = {}\n",
    " \n",
    "for name,model in models.items():\n",
    "    \n",
    "    feature_imp,result,features = kf_cross_val(model, x, y)\n",
    "    results[name] = result\n",
    " \n",
    "for name, result in results.items():\n",
    "    print(\"----------\\n\" + name)\n",
    "    print(np.mean(result))\n",
    "    print(np.std(result))\n",
    "    print(feature_imp)\n",
    "\n"
   ]
  },
  {
   "cell_type": "markdown",
   "metadata": {
    "id": "yRxzi9yWd-LK"
   },
   "source": [
    "# Stacking"
   ]
  },
  {
   "cell_type": "markdown",
   "metadata": {
    "id": "9hIQY9RBieed"
   },
   "source": [
    "将之前设置好的学习器传入\n",
    "有两种stack： 1、每个学习器都设置好了超参数，则直接进行训练；2、在stacking中一起进行超参数选择\n"
   ]
  },
  {
   "cell_type": "code",
   "execution_count": 17,
   "metadata": {
    "id": "UlzE4EUAeFZ2"
   },
   "outputs": [],
   "source": [
    "import six\n",
    "import sys\n",
    "sys.modules['sklearn.externals.six'] = six\n",
    "from mlxtend.regressor import StackingCVRegressor\n",
    "from mlxtend.classifier import StackingCVClassifier\n",
    "from sklearn import model_selection\n",
    "from sklearn.linear_model import LogisticRegression\n",
    "lr = LogisticRegression()\n",
    "stack = StackingCVClassifier(classifiers=[model_xgb,model_svc],\n",
    "                            meta_classifier=lr, cv=10,\n",
    "                            use_features_in_secondary=False,\n",
    "                            store_train_meta_features=True,\n",
    "                            shuffle=False,n_jobs=2)"
   ]
  },
  {
   "cell_type": "code",
   "execution_count": 20,
   "metadata": {
    "id": "ohCLRoUrtMqk"
   },
   "outputs": [
    {
     "name": "stdout",
     "output_type": "stream",
     "text": [
      "Accuracy: 1.00 (+/- 0.00) [xgb]\n",
      "Accuracy: 1.00 (+/- 0.00) [svc]\n",
      "Accuracy: 1.00 (+/- 0.00) [StackingClassifier]\n"
     ]
    }
   ],
   "source": [
    "for clf, label in zip([model_xgb,model_svc,stack], \n",
    "                      ['xgb', \n",
    "                       'svc', \n",
    "                       'StackingClassifier']):\n",
    "\n",
    "    scores = model_selection.cross_val_score(clf,x_train , y_train.values.ravel(),cv=10, scoring='accuracy',n_jobs=-1)\n",
    "    print(\"Accuracy: %0.2f (+/- %0.2f) [%s]\" \n",
    "          % (scores.mean(), scores.std(), label))"
   ]
  },
  {
   "cell_type": "code",
   "execution_count": 21,
   "metadata": {
    "id": "ubciiukCtQ4v"
   },
   "outputs": [
    {
     "name": "stderr",
     "output_type": "stream",
     "text": [
      "d:\\python\\envs\\tensorflow\\lib\\site-packages\\sklearn\\utils\\validation.py:72: DataConversionWarning: A column-vector y was passed when a 1d array was expected. Please change the shape of y to (n_samples, ), for example using ravel().\n",
      "  return f(**kwargs)\n",
      "d:\\python\\envs\\tensorflow\\lib\\site-packages\\sklearn\\utils\\validation.py:72: DataConversionWarning: A column-vector y was passed when a 1d array was expected. Please change the shape of y to (n_samples, ), for example using ravel().\n",
      "  return f(**kwargs)\n"
     ]
    }
   ],
   "source": [
    "result=stack.fit(x_train.values ,y_train.values.ravel())"
   ]
  },
  {
   "cell_type": "markdown",
   "metadata": {
    "id": "ERWGbLbrtVm5"
   },
   "source": [
    "# 检测效果"
   ]
  },
  {
   "cell_type": "code",
   "execution_count": null,
   "metadata": {
    "id": "76P6f75H1xKd"
   },
   "outputs": [],
   "source": [
    "from sklearn import metrics\n",
    "pred = stack.predict(x_test)\n",
    "confusion_matrix = metrics.confusion_matrix(y_test, pred)\n",
    "cm_display = metrics.ConfusionMatrixDisplay(confusion_matrix = confusion_matrix, display_labels = [False, True])\n",
    "cm_display.plot()\n",
    "plt.show()\n"
   ]
  },
  {
   "cell_type": "code",
   "execution_count": null,
   "metadata": {
    "id": "reNqQBlV10UU"
   },
   "outputs": [],
   "source": [
    "## Import the library and functions you need\n",
    "from sklearn.metrics import f1_score, accuracy_score, precision_score, recall_score\n",
    "## Accuracy\n",
    "print(\"Accuracy:\",accuracy_score(y_test,pred))\n",
    "## Precision\n",
    "print(\"Precision:\",precision_score(y_test,pred))\n",
    "## Recall\n",
    "print(\"Recall:\",recall_score(y_test,pred))\n",
    "## F1 Score\n",
    "print(\"F1:\",f1_score(y_test,pred))"
   ]
  },
  {
   "cell_type": "markdown",
   "metadata": {},
   "source": [
    "# scikit-optimize"
   ]
  },
  {
   "cell_type": "markdown",
   "metadata": {},
   "source": [
    "## BayesSearchCV"
   ]
  },
  {
   "cell_type": "markdown",
   "metadata": {},
   "source": [
    "自定义程度更低\n",
    "https://scikit-optimize.github.io/stable/auto_examples/sklearn-gridsearchcv-replacement.html"
   ]
  },
  {
   "cell_type": "markdown",
   "metadata": {},
   "source": [
    "### SVM"
   ]
  },
  {
   "cell_type": "markdown",
   "metadata": {},
   "source": [
    "#### 设置搜索空间"
   ]
  },
  {
   "cell_type": "code",
   "execution_count": 7,
   "metadata": {},
   "outputs": [],
   "source": [
    "# define search space\n",
    "#svm\n",
    "params = dict()\n",
    "params['C'] = (1e-6, 100.0, 'log-uniform')\n",
    "params['gamma'] = (1e-6, 100.0, 'log-uniform')\n",
    "params['degree'] = (1,5)\n",
    "params['kernel'] = ['linear', 'poly', 'rbf', 'sigmoid']"
   ]
  },
  {
   "cell_type": "code",
   "execution_count": 41,
   "metadata": {},
   "outputs": [],
   "source": [
    "from sklearn.model_selection import RepeatedStratifiedKFold\n",
    "from skopt import BayesSearchCV\n",
    "from sklearn.svm import SVC\n",
    "# define evaluation\n",
    "cv = RepeatedStratifiedKFold(n_splits=10, n_repeats=1, random_state=SEED)\n",
    "# define the search\n",
    "search = BayesSearchCV(estimator=SVC(),scoring=evaluate_model,search_spaces=params, n_jobs=-1, cv=cv)\n",
    "#search = BayesSearchCV(estimator=SVC(),search_spaces=params, n_jobs=-1, cv=cv)"
   ]
  },
  {
   "cell_type": "code",
   "execution_count": 40,
   "metadata": {},
   "outputs": [],
   "source": [
    "def evaluate_model(estimator,X,y):\n",
    "    # configure the model with specific hyperparameters\n",
    "    acc = cross_val_score(estimator, X, y, scoring=\"accuracy\",cv=cv).mean()#评测分数是cv后的结果\n",
    "    return acc"
   ]
  },
  {
   "cell_type": "code",
   "execution_count": null,
   "metadata": {},
   "outputs": [],
   "source": [
    "# perform the search\n",
    "search.fit(x_train, y_train)\n",
    "# report the best result\n",
    "print(search.best_score_)\n",
    "print(search.best_params_)\n",
    "print(search.cv_results_)"
   ]
  },
  {
   "cell_type": "markdown",
   "metadata": {},
   "source": [
    "## Bayes optimization"
   ]
  },
  {
   "cell_type": "markdown",
   "metadata": {},
   "source": [
    "自定义程度更高，可以自定义目标函数、surrogate函数、acquistion函数"
   ]
  },
  {
   "cell_type": "markdown",
   "metadata": {},
   "source": [
    "### SVM"
   ]
  },
  {
   "cell_type": "markdown",
   "metadata": {},
   "source": [
    "#### 定义搜索空间"
   ]
  },
  {
   "cell_type": "code",
   "execution_count": 28,
   "metadata": {},
   "outputs": [],
   "source": [
    "# define the space of hyperparameters to search\n",
    "# XGboost\n",
    "SPACE = [\n",
    "   skopt.space.Real(0.01, 0.5, name='learning_rate', prior='log-uniform'),\n",
    "   skopt.space.Integer(1, 30, name='max_depth'),\n",
    "   skopt.space.Integer(2, 100, name='num_leaves'),\n",
    "   skopt.space.Integer(10, 1000, name='min_data_in_leaf'),\n",
    "   skopt.space.Real(0.1, 1.0, name='feature_fraction', prior='uniform'),\n",
    "   skopt.space.Real(0.1, 1.0, name='subsample', prior='uniform')]"
   ]
  },
  {
   "cell_type": "code",
   "execution_count": 45,
   "metadata": {},
   "outputs": [],
   "source": [
    "import skopt\n",
    "#SVM\n",
    "search_space = [\n",
    "   skopt.space.Real(0.01, 0.5, name='C', prior='log-uniform'),\n",
    "   skopt.space.Integer(1, 5, name='degree'),\n",
    "   skopt.space.Real(0.001,10 ,name='gamma'),\n",
    "   skopt.space.space.Categorical(['linear', 'poly', 'rbf', 'sigmoid'],name='kernel')]\n",
    "   "
   ]
  },
  {
   "cell_type": "markdown",
   "metadata": {},
   "source": [
    "#### 目标函数"
   ]
  },
  {
   "cell_type": "code",
   "execution_count": 46,
   "metadata": {},
   "outputs": [],
   "source": [
    "# 为什么是负号？\n",
    "#因为scikit-optimize的训练过程是，使得目标函数最小。如果设置的是acc，则应该反过来\n",
    "from sklearn.model_selection import cross_val_score\n",
    "from sklearn.svm import SVC\n",
    "@skopt.utils.use_named_args(search_space)\n",
    "def evaluate_model(**params):\n",
    "    # configure the model with specific hyperparameters\n",
    "    clf = SVC(**params)\n",
    "    acc = cross_val_score(clf, x_train, y_train, scoring=\"accuracy\",cv=5).mean()#评测分数是cv后的结果\n",
    "    return -acc\n"
   ]
  },
  {
   "cell_type": "markdown",
   "metadata": {},
   "source": [
    "#### 选择surrogate函数，超参数寻优"
   ]
  },
  {
   "cell_type": "code",
   "execution_count": null,
   "metadata": {},
   "outputs": [],
   "source": [
    "#可选有：gp_minimize,dummy_minimize,forest_minimize,gbrt_minimize\n",
    "#参数：https://scikit-optimize.github.io/stable/modules/generated/skopt.gp_minimize.html\n",
    "\n",
    "from skopt import gp_minimize\n",
    "result = gp_minimize(\n",
    "    func=evaluate_model,\n",
    "    dimensions=search_space,\n",
    "    acq_func=\"gp_hedge\",#acquisition函数\n",
    "    n_calls=100,\n",
    "    random_state=SEED,\n",
    "    verbose=True,\n",
    "    n_jobs=-1,\n",
    ")"
   ]
  },
  {
   "cell_type": "markdown",
   "metadata": {},
   "source": [
    "#### result"
   ]
  },
  {
   "cell_type": "code",
   "execution_count": null,
   "metadata": {},
   "outputs": [],
   "source": [
    "# summarizing finding:\n",
    "\n",
    "print('Best Accuracy: %.3f' % (result.fun)) \n",
    "print('Best Parameters: %s' % (result.x))`b"
   ]
  },
  {
   "cell_type": "code",
   "execution_count": null,
   "metadata": {},
   "outputs": [],
   "source": [
    "from skopt.plots import plot_convergence,plot_evaluations,plot_objective,plot_regret\n",
    "\n",
    "plot_convergence(result)\n",
    "plot_evaluations(result)\n",
    "plot_objective(result)\n",
    "plot_regret(result)"
   ]
  },
  {
   "cell_type": "markdown",
   "metadata": {},
   "source": [
    "### XGBoost"
   ]
  },
  {
   "cell_type": "markdown",
   "metadata": {},
   "source": [
    "好像只支持sklearn里面的函数，所以得有sklearn 的 API"
   ]
  },
  {
   "cell_type": "code",
   "execution_count": 41,
   "metadata": {},
   "outputs": [],
   "source": [
    "# define the space of hyperparameters to search\n",
    "# XGboost\n",
    "search_space = [\n",
    "   skopt.space.Real(0.01, 0.5, name='eta', prior='log-uniform'),\n",
    "   skopt.space.Integer(1, 30, name='max_depth'),\n",
    "   skopt.space.Integer(2, 100, name='num_leaves'),\n",
    "   skopt.space.Integer(10, 1000, name='min_data_in_leaf'),\n",
    "   skopt.space.Real(0.1, 1.0, name='subsample', prior='uniform')]"
   ]
  },
  {
   "cell_type": "code",
   "execution_count": 54,
   "metadata": {},
   "outputs": [],
   "source": [
    "# 为什么是负号？\n",
    "#因为scikit-optimize的训练过程是，使得目标函数最小。如果设置的是acc，则应该反过来\n",
    "from sklearn.model_selection import cross_val_score\n",
    "import xgboost as xgb\n",
    "\n",
    "@skopt.utils.use_named_args(search_space)\n",
    "def evaluate_model(**params):\n",
    "    # configure the model with specific hyperparameters\n",
    "    clf = xgb.XGBClassifier(**params)\n",
    "    acc = cross_val_score(clf, x_train, y_train, scoring=\"accuracy\",cv=5).mean()#评测分数是cv后的结果\n",
    "    return -acc\n",
    "\n"
   ]
  },
  {
   "cell_type": "markdown",
   "metadata": {},
   "source": [
    "使用Neptune\n",
    "放弃了，因为没有适合新版本的"
   ]
  },
  {
   "cell_type": "code",
   "execution_count": null,
   "metadata": {},
   "outputs": [],
   "source": [
    "from skopt import gp_minimize\n",
    "\n",
    "result = gp_minimize(\n",
    "    func=evaluate_model,\n",
    "    dimensions=search_space,\n",
    "    acq_func=\"gp_hedge\",#acquisition函数\n",
    "    n_calls=100,\n",
    "    random_state=SEED,\n",
    "    verbose=True,\n",
    "    n_jobs=-1,\n",
    ")"
   ]
  },
  {
   "cell_type": "code",
   "execution_count": null,
   "metadata": {},
   "outputs": [],
   "source": [
    "# summarizing finding:\n",
    "\n",
    "print('Best Accuracy: %.3f' % (result.fun)) \n",
    "print('Best Parameters: %s' % (result.x))"
   ]
  }
 ],
 "metadata": {
  "colab": {
   "collapsed_sections": [
    "Iuq6agaqUi3N",
    "YI6WVTp-UyM8",
    "xKvQmpTOU21T",
    "nmkpdZL_VWVq",
    "8Wp1WyIIVx5d",
    "e72QRhquV4N_",
    "e7g9VvvFXutF",
    "dH2RgWMCYFko",
    "yRxzi9yWd-LK",
    "ERWGbLbrtVm5"
   ],
   "name": "ML_example.ipynb",
   "provenance": []
  },
  "kernelspec": {
   "display_name": "Python 3.7.13 ('tensorflow')",
   "language": "python",
   "name": "python3"
  },
  "language_info": {
   "codemirror_mode": {
    "name": "ipython",
    "version": 3
   },
   "file_extension": ".py",
   "mimetype": "text/x-python",
   "name": "python",
   "nbconvert_exporter": "python",
   "pygments_lexer": "ipython3",
   "version": "3.7.13 (default, Mar 28 2022, 08:03:21) [MSC v.1916 64 bit (AMD64)]"
  },
  "vscode": {
   "interpreter": {
    "hash": "e25aad4283327c5b4939cdf3da964dc432f1cfb6e90fdd162e246d3a82178fec"
   }
  }
 },
 "nbformat": 4,
 "nbformat_minor": 1
}
