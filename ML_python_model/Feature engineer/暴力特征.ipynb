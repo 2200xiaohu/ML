{
 "cells": [
  {
   "cell_type": "code",
   "execution_count": 1,
   "metadata": {},
   "outputs": [],
   "source": [
    "import pandas as pd\n",
    "import numpy as np"
   ]
  },
  {
   "cell_type": "code",
   "execution_count": null,
   "metadata": {},
   "outputs": [],
   "source": [
    "import featuretools as ft\n",
    "from woodwork.logical_types import Categorical, PostalCode\n",
    "es = ft.EntitySet(id=\"data\")\n",
    "es = es.add_dataframe(\n",
    "    dataframe_name=\"data\",\n",
    "    dataframe=df,\n",
    "    index = 'index'\n",
    ")\n",
    "\n",
    "\n",
    "# trans_primitives = ft.primitives.list_primitives()[ft.primitives.list_primitives()['type']=='transform']['name'].to_list()\n",
    "# trans_primitives = [i for i in trans_primitives if i not in ['is_weekend','minute','is_lunch_time','season','distance_to_holiday','cityblock_distance','day','month','is_month_end','hour','url_to_domain','week','date_to_holiday','age','second','diff_datetime','is_working_hours','part_of_day'\n",
    "#                  ,'latitude','weekday','year','is_year_end','days_in_month','is_free_email_domain','url_to_protocol','day_of_year','time_since','is_leap_year','url_to_tld','is_month_start','median_word_length','total_word_length','date_to_time_zone',\n",
    "#                                                             'is_quarter_start','longitude','haversine','sine','is_in_geobox','one_digit_postal_code','two_digit_postal_code','whitespace_count','count_string','modulo_by_feature','natural_logarithm','title_word_count','number_of_common_words',\n",
    "#                                                             'geomidpoint','is_year_start','rolling_outlier_count','is_federal_holiday','number_of_words_in_quotes','email_address_to_domain','or','and','not','isin','upper_case_count','punctuation_count'\n",
    "#                                                              ,'time_since_previous','is_quarter_end']]\n",
    "trans_primitives = ['multiply_boolean','quarter','not_equal','exponential_weighted_average','cum_mean',\n",
    "                    'expanding_trend','num_unique_separators','rate_of_change','not_equal_scalar',\n",
    "                    'multiply_numeric','square_root', 'exponential_weighted_variance','divide_by_feature','cum_sum','cum_count','greater_than','add_numeric','divide_numeric','absolute', 'multiply_numeric_scalar',\n",
    "                    'add_numeric_scalar','cum_max','exponential_weighted_std','cum_min', 'is_null','cosine','percentile',]\n",
    "# variable_types={ \"category\": ft.variable_types.Categorical}\n",
    "# interesting_values = {'feature26':df['feature26'].unique()}\n",
    "# Run deep feature synthesis with custom primitives and increased max_depth\n",
    "feature_matrix, feature_defs = ft.dfs(entityset=es,\n",
    "                                      target_dataframe_name='data',\n",
    "                                      max_depth=1,n_jobs=-1,\n",
    "                                      trans_primitives=trans_primitives,verbose=True)"
   ]
  }
 ],
 "metadata": {
  "kernelspec": {
   "display_name": "automl",
   "language": "python",
   "name": "python3"
  },
  "language_info": {
   "codemirror_mode": {
    "name": "ipython",
    "version": 3
   },
   "file_extension": ".py",
   "mimetype": "text/x-python",
   "name": "python",
   "nbconvert_exporter": "python",
   "pygments_lexer": "ipython3",
   "version": "3.8.2"
  },
  "orig_nbformat": 4
 },
 "nbformat": 4,
 "nbformat_minor": 2
}
